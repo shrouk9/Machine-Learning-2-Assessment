{
  "nbformat": 4,
  "nbformat_minor": 0,
  "metadata": {
    "colab": {
      "name": "Task 3.ipynb",
      "provenance": []
    },
    "kernelspec": {
      "name": "python3",
      "display_name": "Python 3"
    },
    "language_info": {
      "name": "python"
    }
  },
  "cells": [
    {
      "cell_type": "markdown",
      "metadata": {
        "id": "atvtSwwQOpon"
      },
      "source": [
        "#**Task 3: Anomaly detection**\n",
        "##**3.1.Import the libraries**"
      ]
    },
    {
      "cell_type": "code",
      "metadata": {
        "id": "CD7Qk01pRLVP"
      },
      "source": [
        "#Import Libraries\n",
        "import pandas as pd\n",
        "import numpy as np\n",
        "from sklearn import metrics\n",
        "import matplotlib.pyplot as plt\n",
        "import matplotlib as mpl\n",
        "import seaborn as sns\n",
        "from scipy.io import loadmat\n",
        "from sklearn.mixture import GaussianMixture\n",
        "from sklearn.model_selection import train_test_split\n",
        "from sklearn.linear_model import LogisticRegression"
      ],
      "execution_count": null,
      "outputs": []
    },
    {
      "cell_type": "markdown",
      "metadata": {
        "id": "m1WGe9gJd76x"
      },
      "source": [
        "###Firstly, I've select the Multi-dimensional point datasets, Lymphography dataset, \n",
        "\n",
        "#### Dataset information\n",
        "\n",
        "The original lymphography dataset from UCI machine learning repository is a classification dataset. It is a multi-class dataset having four classes, but two of them are quite small (2 and 4 data records). Therefore, those two small classes are merged and considered as outliers compared to other two large classes (81 and 61 data records)."
      ]
    },
    {
      "cell_type": "markdown",
      "metadata": {
        "id": "NLB3qQ72esWA"
      },
      "source": [
        "## **3.2. Upload the data**"
      ]
    },
    {
      "cell_type": "code",
      "metadata": {
        "id": "z6p8sBXKd6tp"
      },
      "source": [
        "data1 = loadmat('/content/drive/MyDrive/Colab Notebooks/lympho.mat')"
      ],
      "execution_count": null,
      "outputs": []
    },
    {
      "cell_type": "code",
      "metadata": {
        "colab": {
          "base_uri": "https://localhost:8080/"
        },
        "id": "_Munru-7fzI-",
        "outputId": "259fcd98-54b7-4aa0-fb5e-8e0fdbac500f"
      },
      "source": [
        "y1 = data1['y']\n",
        "x1 = data1['X']\n",
        "print(x1.shape)\n",
        "print(y1.shape)"
      ],
      "execution_count": null,
      "outputs": [
        {
          "output_type": "stream",
          "name": "stdout",
          "text": [
            "(148, 18)\n",
            "(148, 1)\n"
          ]
        }
      ]
    },
    {
      "cell_type": "markdown",
      "metadata": {
        "id": "qGt7Hu40Z9Sm"
      },
      "source": [
        "#**Let's put the data in a dataframe**"
      ]
    },
    {
      "cell_type": "code",
      "metadata": {
        "id": "wYSLbs-WgECf"
      },
      "source": [
        "df = pd.DataFrame(x1, columns=['x1', 'x2','x3','x4','x5','x6','x7','x8','x9','x10','x11','x12','x13','x14','x15','x16','x17','x18'])"
      ],
      "execution_count": null,
      "outputs": []
    },
    {
      "cell_type": "markdown",
      "metadata": {
        "id": "kwZvc0_id76g"
      },
      "source": [
        "##**Description: X = multi-dimensional point data, y = labels (1 = outliers, 0 = inliers)**\n",
        "\n"
      ]
    },
    {
      "cell_type": "code",
      "metadata": {
        "id": "e7_CakN5g0g8"
      },
      "source": [
        "dfy = pd.DataFrame(y1, columns=['y'])# dataframe contains only the outliers checker\n",
        "df_all = pd.concat([df,dfy],axis=1)"
      ],
      "execution_count": null,
      "outputs": []
    },
    {
      "cell_type": "code",
      "metadata": {
        "colab": {
          "base_uri": "https://localhost:8080/"
        },
        "id": "HNvmMKV6dVP3",
        "outputId": "10f7c5ea-7df7-4c07-e41d-c4a66cae0ea0"
      },
      "source": [
        "np.unique(dfy.values)"
      ],
      "execution_count": null,
      "outputs": [
        {
          "output_type": "execute_result",
          "data": {
            "text/plain": [
              "array([0., 1.])"
            ]
          },
          "metadata": {},
          "execution_count": 18
        }
      ]
    },
    {
      "cell_type": "code",
      "metadata": {
        "colab": {
          "base_uri": "https://localhost:8080/",
          "height": 143
        },
        "id": "YBIR3qY2aa-9",
        "outputId": "a8725d72-b530-4ebc-82a3-88753c363141"
      },
      "source": [
        "dfy.head(3)"
      ],
      "execution_count": null,
      "outputs": [
        {
          "output_type": "execute_result",
          "data": {
            "text/html": [
              "<div>\n",
              "<style scoped>\n",
              "    .dataframe tbody tr th:only-of-type {\n",
              "        vertical-align: middle;\n",
              "    }\n",
              "\n",
              "    .dataframe tbody tr th {\n",
              "        vertical-align: top;\n",
              "    }\n",
              "\n",
              "    .dataframe thead th {\n",
              "        text-align: right;\n",
              "    }\n",
              "</style>\n",
              "<table border=\"1\" class=\"dataframe\">\n",
              "  <thead>\n",
              "    <tr style=\"text-align: right;\">\n",
              "      <th></th>\n",
              "      <th>y</th>\n",
              "    </tr>\n",
              "  </thead>\n",
              "  <tbody>\n",
              "    <tr>\n",
              "      <th>0</th>\n",
              "      <td>1.0</td>\n",
              "    </tr>\n",
              "    <tr>\n",
              "      <th>1</th>\n",
              "      <td>1.0</td>\n",
              "    </tr>\n",
              "    <tr>\n",
              "      <th>2</th>\n",
              "      <td>1.0</td>\n",
              "    </tr>\n",
              "  </tbody>\n",
              "</table>\n",
              "</div>"
            ],
            "text/plain": [
              "     y\n",
              "0  1.0\n",
              "1  1.0\n",
              "2  1.0"
            ]
          },
          "metadata": {},
          "execution_count": 14
        }
      ]
    },
    {
      "cell_type": "code",
      "metadata": {
        "colab": {
          "base_uri": "https://localhost:8080/",
          "height": 143
        },
        "id": "LS7qLHcmg5Qf",
        "outputId": "168d2746-8bc4-4c0e-9020-74ba2bbd5796"
      },
      "source": [
        "df_all.head(3)"
      ],
      "execution_count": null,
      "outputs": [
        {
          "output_type": "execute_result",
          "data": {
            "text/html": [
              "<div>\n",
              "<style scoped>\n",
              "    .dataframe tbody tr th:only-of-type {\n",
              "        vertical-align: middle;\n",
              "    }\n",
              "\n",
              "    .dataframe tbody tr th {\n",
              "        vertical-align: top;\n",
              "    }\n",
              "\n",
              "    .dataframe thead th {\n",
              "        text-align: right;\n",
              "    }\n",
              "</style>\n",
              "<table border=\"1\" class=\"dataframe\">\n",
              "  <thead>\n",
              "    <tr style=\"text-align: right;\">\n",
              "      <th></th>\n",
              "      <th>x1</th>\n",
              "      <th>x2</th>\n",
              "      <th>x3</th>\n",
              "      <th>x4</th>\n",
              "      <th>x5</th>\n",
              "      <th>x6</th>\n",
              "      <th>x7</th>\n",
              "      <th>x8</th>\n",
              "      <th>x9</th>\n",
              "      <th>x10</th>\n",
              "      <th>x11</th>\n",
              "      <th>x12</th>\n",
              "      <th>x13</th>\n",
              "      <th>x14</th>\n",
              "      <th>x15</th>\n",
              "      <th>x16</th>\n",
              "      <th>x17</th>\n",
              "      <th>x18</th>\n",
              "      <th>y</th>\n",
              "    </tr>\n",
              "  </thead>\n",
              "  <tbody>\n",
              "    <tr>\n",
              "      <th>0</th>\n",
              "      <td>1.0</td>\n",
              "      <td>1.0</td>\n",
              "      <td>1.0</td>\n",
              "      <td>1.0</td>\n",
              "      <td>1.0</td>\n",
              "      <td>1.0</td>\n",
              "      <td>1.0</td>\n",
              "      <td>1.0</td>\n",
              "      <td>1.0</td>\n",
              "      <td>1.0</td>\n",
              "      <td>1.0</td>\n",
              "      <td>1.0</td>\n",
              "      <td>1.0</td>\n",
              "      <td>1.0</td>\n",
              "      <td>1.0</td>\n",
              "      <td>1.0</td>\n",
              "      <td>1.0</td>\n",
              "      <td>1.0</td>\n",
              "      <td>1.0</td>\n",
              "    </tr>\n",
              "    <tr>\n",
              "      <th>1</th>\n",
              "      <td>1.0</td>\n",
              "      <td>1.0</td>\n",
              "      <td>1.0</td>\n",
              "      <td>1.0</td>\n",
              "      <td>1.0</td>\n",
              "      <td>2.0</td>\n",
              "      <td>1.0</td>\n",
              "      <td>2.0</td>\n",
              "      <td>1.0</td>\n",
              "      <td>2.0</td>\n",
              "      <td>2.0</td>\n",
              "      <td>1.0</td>\n",
              "      <td>1.0</td>\n",
              "      <td>2.0</td>\n",
              "      <td>1.0</td>\n",
              "      <td>1.0</td>\n",
              "      <td>1.0</td>\n",
              "      <td>2.0</td>\n",
              "      <td>1.0</td>\n",
              "    </tr>\n",
              "    <tr>\n",
              "      <th>2</th>\n",
              "      <td>3.0</td>\n",
              "      <td>2.0</td>\n",
              "      <td>2.0</td>\n",
              "      <td>2.0</td>\n",
              "      <td>2.0</td>\n",
              "      <td>2.0</td>\n",
              "      <td>2.0</td>\n",
              "      <td>2.0</td>\n",
              "      <td>3.0</td>\n",
              "      <td>1.0</td>\n",
              "      <td>1.0</td>\n",
              "      <td>2.0</td>\n",
              "      <td>2.0</td>\n",
              "      <td>8.0</td>\n",
              "      <td>1.0</td>\n",
              "      <td>2.0</td>\n",
              "      <td>2.0</td>\n",
              "      <td>4.0</td>\n",
              "      <td>1.0</td>\n",
              "    </tr>\n",
              "  </tbody>\n",
              "</table>\n",
              "</div>"
            ],
            "text/plain": [
              "    x1   x2   x3   x4   x5   x6   x7  ...  x13  x14  x15  x16  x17  x18    y\n",
              "0  1.0  1.0  1.0  1.0  1.0  1.0  1.0  ...  1.0  1.0  1.0  1.0  1.0  1.0  1.0\n",
              "1  1.0  1.0  1.0  1.0  1.0  2.0  1.0  ...  1.0  2.0  1.0  1.0  1.0  2.0  1.0\n",
              "2  3.0  2.0  2.0  2.0  2.0  2.0  2.0  ...  2.0  8.0  1.0  2.0  2.0  4.0  1.0\n",
              "\n",
              "[3 rows x 19 columns]"
            ]
          },
          "metadata": {},
          "execution_count": 39
        }
      ]
    },
    {
      "cell_type": "code",
      "metadata": {
        "colab": {
          "base_uri": "https://localhost:8080/",
          "height": 320
        },
        "id": "SxKQIRNlv4Rl",
        "outputId": "f7ffaafb-b227-4244-c0bf-6af2d13e4d87"
      },
      "source": [
        "df_all.describe()"
      ],
      "execution_count": null,
      "outputs": [
        {
          "output_type": "execute_result",
          "data": {
            "text/html": [
              "<div>\n",
              "<style scoped>\n",
              "    .dataframe tbody tr th:only-of-type {\n",
              "        vertical-align: middle;\n",
              "    }\n",
              "\n",
              "    .dataframe tbody tr th {\n",
              "        vertical-align: top;\n",
              "    }\n",
              "\n",
              "    .dataframe thead th {\n",
              "        text-align: right;\n",
              "    }\n",
              "</style>\n",
              "<table border=\"1\" class=\"dataframe\">\n",
              "  <thead>\n",
              "    <tr style=\"text-align: right;\">\n",
              "      <th></th>\n",
              "      <th>x1</th>\n",
              "      <th>x2</th>\n",
              "      <th>x3</th>\n",
              "      <th>x4</th>\n",
              "      <th>x5</th>\n",
              "      <th>x6</th>\n",
              "      <th>x7</th>\n",
              "      <th>x8</th>\n",
              "      <th>x9</th>\n",
              "      <th>x10</th>\n",
              "      <th>x11</th>\n",
              "      <th>x12</th>\n",
              "      <th>x13</th>\n",
              "      <th>x14</th>\n",
              "      <th>x15</th>\n",
              "      <th>x16</th>\n",
              "      <th>x17</th>\n",
              "      <th>x18</th>\n",
              "      <th>y</th>\n",
              "    </tr>\n",
              "  </thead>\n",
              "  <tbody>\n",
              "    <tr>\n",
              "      <th>count</th>\n",
              "      <td>148.000000</td>\n",
              "      <td>148.000000</td>\n",
              "      <td>148.000000</td>\n",
              "      <td>148.000000</td>\n",
              "      <td>148.000000</td>\n",
              "      <td>148.000000</td>\n",
              "      <td>148.000000</td>\n",
              "      <td>148.000000</td>\n",
              "      <td>148.000000</td>\n",
              "      <td>148.000000</td>\n",
              "      <td>148.000000</td>\n",
              "      <td>148.000000</td>\n",
              "      <td>148.000000</td>\n",
              "      <td>148.000000</td>\n",
              "      <td>148.000000</td>\n",
              "      <td>148.000000</td>\n",
              "      <td>148.000000</td>\n",
              "      <td>148.000000</td>\n",
              "      <td>148.000000</td>\n",
              "    </tr>\n",
              "    <tr>\n",
              "      <th>mean</th>\n",
              "      <td>2.743243</td>\n",
              "      <td>1.554054</td>\n",
              "      <td>1.175676</td>\n",
              "      <td>1.047297</td>\n",
              "      <td>1.243243</td>\n",
              "      <td>1.506757</td>\n",
              "      <td>1.067568</td>\n",
              "      <td>1.702703</td>\n",
              "      <td>1.060811</td>\n",
              "      <td>2.472973</td>\n",
              "      <td>2.398649</td>\n",
              "      <td>2.966216</td>\n",
              "      <td>2.804054</td>\n",
              "      <td>5.216216</td>\n",
              "      <td>2.331081</td>\n",
              "      <td>1.662162</td>\n",
              "      <td>1.790541</td>\n",
              "      <td>2.601351</td>\n",
              "      <td>0.040541</td>\n",
              "    </tr>\n",
              "    <tr>\n",
              "      <th>std</th>\n",
              "      <td>0.817509</td>\n",
              "      <td>0.498757</td>\n",
              "      <td>0.381836</td>\n",
              "      <td>0.212995</td>\n",
              "      <td>0.430498</td>\n",
              "      <td>0.501652</td>\n",
              "      <td>0.251855</td>\n",
              "      <td>0.458621</td>\n",
              "      <td>0.313557</td>\n",
              "      <td>0.836627</td>\n",
              "      <td>0.568323</td>\n",
              "      <td>0.868305</td>\n",
              "      <td>0.761834</td>\n",
              "      <td>2.171368</td>\n",
              "      <td>0.777126</td>\n",
              "      <td>0.474579</td>\n",
              "      <td>0.408305</td>\n",
              "      <td>1.905023</td>\n",
              "      <td>0.197893</td>\n",
              "    </tr>\n",
              "    <tr>\n",
              "      <th>min</th>\n",
              "      <td>1.000000</td>\n",
              "      <td>1.000000</td>\n",
              "      <td>1.000000</td>\n",
              "      <td>1.000000</td>\n",
              "      <td>1.000000</td>\n",
              "      <td>1.000000</td>\n",
              "      <td>1.000000</td>\n",
              "      <td>1.000000</td>\n",
              "      <td>1.000000</td>\n",
              "      <td>1.000000</td>\n",
              "      <td>1.000000</td>\n",
              "      <td>1.000000</td>\n",
              "      <td>1.000000</td>\n",
              "      <td>1.000000</td>\n",
              "      <td>1.000000</td>\n",
              "      <td>1.000000</td>\n",
              "      <td>1.000000</td>\n",
              "      <td>1.000000</td>\n",
              "      <td>0.000000</td>\n",
              "    </tr>\n",
              "    <tr>\n",
              "      <th>25%</th>\n",
              "      <td>2.000000</td>\n",
              "      <td>1.000000</td>\n",
              "      <td>1.000000</td>\n",
              "      <td>1.000000</td>\n",
              "      <td>1.000000</td>\n",
              "      <td>1.000000</td>\n",
              "      <td>1.000000</td>\n",
              "      <td>1.000000</td>\n",
              "      <td>1.000000</td>\n",
              "      <td>2.000000</td>\n",
              "      <td>2.000000</td>\n",
              "      <td>2.000000</td>\n",
              "      <td>2.000000</td>\n",
              "      <td>4.000000</td>\n",
              "      <td>2.000000</td>\n",
              "      <td>1.000000</td>\n",
              "      <td>2.000000</td>\n",
              "      <td>1.000000</td>\n",
              "      <td>0.000000</td>\n",
              "    </tr>\n",
              "    <tr>\n",
              "      <th>50%</th>\n",
              "      <td>3.000000</td>\n",
              "      <td>2.000000</td>\n",
              "      <td>1.000000</td>\n",
              "      <td>1.000000</td>\n",
              "      <td>1.000000</td>\n",
              "      <td>2.000000</td>\n",
              "      <td>1.000000</td>\n",
              "      <td>2.000000</td>\n",
              "      <td>1.000000</td>\n",
              "      <td>2.000000</td>\n",
              "      <td>2.000000</td>\n",
              "      <td>3.000000</td>\n",
              "      <td>3.000000</td>\n",
              "      <td>5.000000</td>\n",
              "      <td>3.000000</td>\n",
              "      <td>2.000000</td>\n",
              "      <td>2.000000</td>\n",
              "      <td>2.000000</td>\n",
              "      <td>0.000000</td>\n",
              "    </tr>\n",
              "    <tr>\n",
              "      <th>75%</th>\n",
              "      <td>3.000000</td>\n",
              "      <td>2.000000</td>\n",
              "      <td>1.000000</td>\n",
              "      <td>1.000000</td>\n",
              "      <td>1.000000</td>\n",
              "      <td>2.000000</td>\n",
              "      <td>1.000000</td>\n",
              "      <td>2.000000</td>\n",
              "      <td>1.000000</td>\n",
              "      <td>3.000000</td>\n",
              "      <td>3.000000</td>\n",
              "      <td>4.000000</td>\n",
              "      <td>3.000000</td>\n",
              "      <td>8.000000</td>\n",
              "      <td>3.000000</td>\n",
              "      <td>2.000000</td>\n",
              "      <td>2.000000</td>\n",
              "      <td>3.000000</td>\n",
              "      <td>0.000000</td>\n",
              "    </tr>\n",
              "    <tr>\n",
              "      <th>max</th>\n",
              "      <td>4.000000</td>\n",
              "      <td>2.000000</td>\n",
              "      <td>2.000000</td>\n",
              "      <td>2.000000</td>\n",
              "      <td>2.000000</td>\n",
              "      <td>2.000000</td>\n",
              "      <td>2.000000</td>\n",
              "      <td>2.000000</td>\n",
              "      <td>3.000000</td>\n",
              "      <td>4.000000</td>\n",
              "      <td>3.000000</td>\n",
              "      <td>4.000000</td>\n",
              "      <td>4.000000</td>\n",
              "      <td>8.000000</td>\n",
              "      <td>3.000000</td>\n",
              "      <td>2.000000</td>\n",
              "      <td>2.000000</td>\n",
              "      <td>8.000000</td>\n",
              "      <td>1.000000</td>\n",
              "    </tr>\n",
              "  </tbody>\n",
              "</table>\n",
              "</div>"
            ],
            "text/plain": [
              "               x1          x2          x3  ...         x17         x18           y\n",
              "count  148.000000  148.000000  148.000000  ...  148.000000  148.000000  148.000000\n",
              "mean     2.743243    1.554054    1.175676  ...    1.790541    2.601351    0.040541\n",
              "std      0.817509    0.498757    0.381836  ...    0.408305    1.905023    0.197893\n",
              "min      1.000000    1.000000    1.000000  ...    1.000000    1.000000    0.000000\n",
              "25%      2.000000    1.000000    1.000000  ...    2.000000    1.000000    0.000000\n",
              "50%      3.000000    2.000000    1.000000  ...    2.000000    2.000000    0.000000\n",
              "75%      3.000000    2.000000    1.000000  ...    2.000000    3.000000    0.000000\n",
              "max      4.000000    2.000000    2.000000  ...    2.000000    8.000000    1.000000\n",
              "\n",
              "[8 rows x 19 columns]"
            ]
          },
          "metadata": {},
          "execution_count": 40
        }
      ]
    },
    {
      "cell_type": "markdown",
      "metadata": {
        "id": "XgSohNz5b8QS"
      },
      "source": [
        "## **Let's look at the outliers**\n",
        "##**Description: X = multi-dimensional point data, y = labels (1 = outliers, 0 = inliers)**\n"
      ]
    },
    {
      "cell_type": "code",
      "metadata": {
        "colab": {
          "base_uri": "https://localhost:8080/",
          "height": 927
        },
        "id": "i3x6lfCVnHzv",
        "outputId": "7dbe63ff-888c-43cb-b74c-32650c32ea9b"
      },
      "source": [
        "fig, axes = plt.subplots(4, 5, figsize=(35, 25))\n",
        "fig.suptitle('Different feature distributions')\n",
        "\n",
        "axes = axes.reshape(20,)\n",
        "\n",
        "for i,column in enumerate(df_all.columns[:-1]):\n",
        "    axes[i].set_yscale('symlog')\n",
        "    sns.boxplot(ax = axes[i],x=\"y\", y=column,data=df_all)"
      ],
      "execution_count": null,
      "outputs": [
        {
          "output_type": "display_data",
          "data": {
            "image/png": "[encoded data removed]",
            "text/plain": [
              "<Figure size 2520x1800 with 20 Axes>"
            ]
          },
          "metadata": {
            "needs_background": "light"
          }
        }
      ]
    },
    {
      "cell_type": "markdown",
      "metadata": {
        "id": "acR9R2rjcM25"
      },
      "source": [
        "##**3.3. Split the data**"
      ]
    },
    {
      "cell_type": "code",
      "metadata": {
        "id": "T0IK3A2Qg6zR"
      },
      "source": [
        "X_train, X_test, y_train, y_test = train_test_split(df,dfy, test_size=0.33, random_state=1, shuffle=True)"
      ],
      "execution_count": null,
      "outputs": []
    },
    {
      "cell_type": "code",
      "metadata": {
        "colab": {
          "base_uri": "https://localhost:8080/",
          "height": 143
        },
        "id": "v3HmnJ2brqvu",
        "outputId": "efdb2115-f537-4fc0-96ee-8275ed199360"
      },
      "source": [
        "X_train.head(3)"
      ],
      "execution_count": null,
      "outputs": [
        {
          "output_type": "execute_result",
          "data": {
            "text/html": [
              "<div>\n",
              "<style scoped>\n",
              "    .dataframe tbody tr th:only-of-type {\n",
              "        vertical-align: middle;\n",
              "    }\n",
              "\n",
              "    .dataframe tbody tr th {\n",
              "        vertical-align: top;\n",
              "    }\n",
              "\n",
              "    .dataframe thead th {\n",
              "        text-align: right;\n",
              "    }\n",
              "</style>\n",
              "<table border=\"1\" class=\"dataframe\">\n",
              "  <thead>\n",
              "    <tr style=\"text-align: right;\">\n",
              "      <th></th>\n",
              "      <th>x1</th>\n",
              "      <th>x2</th>\n",
              "      <th>x3</th>\n",
              "      <th>x4</th>\n",
              "      <th>x5</th>\n",
              "      <th>x6</th>\n",
              "      <th>x7</th>\n",
              "      <th>x8</th>\n",
              "      <th>x9</th>\n",
              "      <th>x10</th>\n",
              "      <th>x11</th>\n",
              "      <th>x12</th>\n",
              "      <th>x13</th>\n",
              "      <th>x14</th>\n",
              "      <th>x15</th>\n",
              "      <th>x16</th>\n",
              "      <th>x17</th>\n",
              "      <th>x18</th>\n",
              "    </tr>\n",
              "  </thead>\n",
              "  <tbody>\n",
              "    <tr>\n",
              "      <th>119</th>\n",
              "      <td>3.0</td>\n",
              "      <td>1.0</td>\n",
              "      <td>1.0</td>\n",
              "      <td>1.0</td>\n",
              "      <td>1.0</td>\n",
              "      <td>1.0</td>\n",
              "      <td>1.0</td>\n",
              "      <td>2.0</td>\n",
              "      <td>1.0</td>\n",
              "      <td>4.0</td>\n",
              "      <td>3.0</td>\n",
              "      <td>3.0</td>\n",
              "      <td>4.0</td>\n",
              "      <td>5.0</td>\n",
              "      <td>3.0</td>\n",
              "      <td>2.0</td>\n",
              "      <td>2.0</td>\n",
              "      <td>3.0</td>\n",
              "    </tr>\n",
              "    <tr>\n",
              "      <th>144</th>\n",
              "      <td>2.0</td>\n",
              "      <td>1.0</td>\n",
              "      <td>1.0</td>\n",
              "      <td>1.0</td>\n",
              "      <td>1.0</td>\n",
              "      <td>2.0</td>\n",
              "      <td>1.0</td>\n",
              "      <td>2.0</td>\n",
              "      <td>1.0</td>\n",
              "      <td>3.0</td>\n",
              "      <td>3.0</td>\n",
              "      <td>2.0</td>\n",
              "      <td>2.0</td>\n",
              "      <td>4.0</td>\n",
              "      <td>3.0</td>\n",
              "      <td>2.0</td>\n",
              "      <td>2.0</td>\n",
              "      <td>6.0</td>\n",
              "    </tr>\n",
              "    <tr>\n",
              "      <th>105</th>\n",
              "      <td>2.0</td>\n",
              "      <td>1.0</td>\n",
              "      <td>1.0</td>\n",
              "      <td>1.0</td>\n",
              "      <td>1.0</td>\n",
              "      <td>2.0</td>\n",
              "      <td>1.0</td>\n",
              "      <td>2.0</td>\n",
              "      <td>1.0</td>\n",
              "      <td>2.0</td>\n",
              "      <td>2.0</td>\n",
              "      <td>3.0</td>\n",
              "      <td>3.0</td>\n",
              "      <td>3.0</td>\n",
              "      <td>3.0</td>\n",
              "      <td>1.0</td>\n",
              "      <td>2.0</td>\n",
              "      <td>1.0</td>\n",
              "    </tr>\n",
              "  </tbody>\n",
              "</table>\n",
              "</div>"
            ],
            "text/plain": [
              "      x1   x2   x3   x4   x5   x6   x7  ...  x12  x13  x14  x15  x16  x17  x18\n",
              "119  3.0  1.0  1.0  1.0  1.0  1.0  1.0  ...  3.0  4.0  5.0  3.0  2.0  2.0  3.0\n",
              "144  2.0  1.0  1.0  1.0  1.0  2.0  1.0  ...  2.0  2.0  4.0  3.0  2.0  2.0  6.0\n",
              "105  2.0  1.0  1.0  1.0  1.0  2.0  1.0  ...  3.0  3.0  3.0  3.0  1.0  2.0  1.0\n",
              "\n",
              "[3 rows x 18 columns]"
            ]
          },
          "metadata": {},
          "execution_count": 46
        }
      ]
    },
    {
      "cell_type": "code",
      "metadata": {
        "colab": {
          "base_uri": "https://localhost:8080/"
        },
        "id": "TMrxByVJyNw1",
        "outputId": "1a4815f9-4bec-4672-9e7e-0c38d3161312"
      },
      "source": [
        "len(X_test)"
      ],
      "execution_count": null,
      "outputs": [
        {
          "output_type": "execute_result",
          "data": {
            "text/plain": [
              "49"
            ]
          },
          "metadata": {},
          "execution_count": 43
        }
      ]
    },
    {
      "cell_type": "markdown",
      "metadata": {
        "id": "8v1CmSmGjvIn"
      },
      "source": [
        "#**What is GMM?**\n",
        "Gaussian Mixture Model(GMM) is an Unsupervised Clustering approach. In this approach, unlike K-Means we fit ‘k’ Gaussians to the data. Then we find the Gaussian distribution parameters like mean and Variance for each cluster and weight of a cluster. Finally, for each data point, we calculate the probabilities of belonging to each of the clusters.\n",
        "Mathematically, the Gaussian model can be written as follows:\n",
        "\n",
        "![image.png](data:image/png;base64,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)\n",
        "\n",
        "![image.png](data:image/png;base64,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)\n"
      ]
    },
    {
      "cell_type": "markdown",
      "metadata": {
        "id": "0tbWE4PrkzmK"
      },
      "source": [
        "where μ​k = mean & Σk​ = covariance matrix for the kth component. ϕk= weight for the cluster ‘k’."
      ]
    },
    {
      "cell_type": "markdown",
      "metadata": {
        "id": "Mb5jlR67e_2m"
      },
      "source": [
        "#**3.4. Apply GMM**"
      ]
    },
    {
      "cell_type": "code",
      "metadata": {
        "colab": {
          "base_uri": "https://localhost:8080/"
        },
        "id": "wPb_dRsanBcL",
        "outputId": "a83f16fb-768c-4c84-e3a5-d9086afbc6ed"
      },
      "source": [
        "gm = GaussianMixture(n_components = 4, covariance_type = 'full', random_state=0) #n_components=gaussian components\n",
        "                                                                                 #/mixture components=num of clusters= 1 by default\n",
        "                             #covariance_type = 'full':means the components may independently adopt any position and shape.\n",
        "gm.fit(X_train)"
      ],
      "execution_count": null,
      "outputs": [
        {
          "output_type": "execute_result",
          "data": {
            "text/plain": [
              "GaussianMixture(covariance_type='full', init_params='kmeans', max_iter=100,\n",
              "                means_init=None, n_components=4, n_init=1, precisions_init=None,\n",
              "                random_state=0, reg_covar=1e-06, tol=0.001, verbose=0,\n",
              "                verbose_interval=10, warm_start=False, weights_init=None)"
            ]
          },
          "metadata": {},
          "execution_count": 48
        }
      ]
    },
    {
      "cell_type": "code",
      "metadata": {
        "id": "veMMb-vSql3R"
      },
      "source": [
        "c=gm.predict_proba(X_test)"
      ],
      "execution_count": null,
      "outputs": []
    },
    {
      "cell_type": "code",
      "metadata": {
        "colab": {
          "base_uri": "https://localhost:8080/"
        },
        "id": "zl0w0qJjvo6S",
        "outputId": "f386cc56-1c07-47bb-d028-1533ab10b0f2"
      },
      "source": [
        "c[:4]"
      ],
      "execution_count": null,
      "outputs": [
        {
          "output_type": "execute_result",
          "data": {
            "text/plain": [
              "array([[1.00000000e+00, 0.00000000e+00, 0.00000000e+00, 0.00000000e+00],\n",
              "       [3.67086122e-12, 1.00000000e+00, 0.00000000e+00, 0.00000000e+00],\n",
              "       [1.00000000e+00, 0.00000000e+00, 0.00000000e+00, 0.00000000e+00],\n",
              "       [1.00000000e+00, 0.00000000e+00, 0.00000000e+00, 0.00000000e+00]])"
            ]
          },
          "metadata": {},
          "execution_count": 86
        }
      ]
    },
    {
      "cell_type": "code",
      "metadata": {
        "colab": {
          "base_uri": "https://localhost:8080/"
        },
        "id": "Ag_C5Vwu5KMm",
        "outputId": "61475077-4af3-4190-8d07-41ab85a37055"
      },
      "source": [
        "GMM_y_pre = gm.predict(X_test)\n",
        "GMM_y_pre"
      ],
      "execution_count": null,
      "outputs": [
        {
          "output_type": "execute_result",
          "data": {
            "text/plain": [
              "array([0, 1, 0, 0, 1, 0, 1, 0, 0, 0, 2, 0, 0, 0, 0, 0, 0, 1, 0, 0, 0, 0,\n",
              "       0, 1, 1, 0, 0, 0, 0, 2, 0, 0, 0, 0, 0, 0, 2, 0, 0, 0, 0, 0, 0, 0,\n",
              "       2, 0, 0, 0, 0])"
            ]
          },
          "metadata": {},
          "execution_count": 66
        }
      ]
    },
    {
      "cell_type": "markdown",
      "metadata": {
        "id": "yjOxjXZHfy1e"
      },
      "source": [
        "#**3.5. Benchmark the outlier detection model against a supervised approach (Logestic Regression LR).**\n",
        "##The chosen metric is AUC \n",
        "##**What is AUC?**\n",
        "Compute Area Under the Curve (AUC) using the trapezoidal rule.\n",
        "This is a general function, given points on a curve. For computing the area under the ROC-curve where it is the measure of the ability of a classifier to distinguish between classes and is used as a summary of the ROC curve.\n",
        "\n",
        "\n",
        "![images.png](data:image/png;base64,iVBORw0KGgoAAAANSUhEUgAAASwAAACoCAMAAABt9SM9AAAB41BMVEX////Ix9kAAAD2zcf///0ka6nR3OTJxtr9///GxNfu7vXGyN0kaqry8vLIydnV1dVlkrzNIQD29vbExMT86OOTk5Pg4ODPz8+qSlVpaWmenp7s7Ox2dnaGhobc3NzglYyrq6tOj+NKoPNfX1+ywuCmpqbE1N4vcKnaQi70wbYZGRkjIyPWGQDuqaC6Q0FhiriqwthSUlJISEi1tbU6Ojrq0MnffnS9vb1wcHCAgIAtLS0RERE3NzfiQSzytqwoKCjTLRJKFxOjNyspCgcdK0QAXaDSYkz5zMgsAADKxOL9//RJhMgqap1SWVt5AACLKB2CGQDCbmi8aGFlHhyJKyHSfnnrlYpUWGw7LkyZssr+8fG/VkjqQirDMSmZb41olNkAVo4fccEAXKVHdZduRUSMaGZVLCdxUUdLFRhEHQ0ATIyNXFpsMi31rpvcqqiRjL9KoP8YOU7HUDnHraqpk5B5ru8NFCmNe3iPt+tzZnLF37h3rWXkytKeuorp9+Hgc2J0ruiowKRSoCstHxhANChLpv+v1KSHtn2xwbfK4cX10sJTox2uJhEuSnCkLx7HYVawhX9SaHtinkfYu7YJJ0YPOWe9ODuOa1oVKjGvORFnbqRoiKFmpkiayYyPtJOnSVtRX1KgZI28AAAX6klEQVR4nO2di3/aVpbHhawYJRhRSwHGyHioMcSFbBoDDrax147bxDVJt+1MZ9qkzXa2+2pnZ7veNo+u3bh1dmzjdJtsJ53ZR53s/Kl7zrl6ghACxOPzKb9PYsRFj3u/Ovfcc6+uJI4baaSRRhpppJFGGmmkkUYaaaSRRhppWCSHdcmWxJlUIhOXratFIGVGbti89c4bEvSdmIuW1eDImUyk3eP0S1FeV25a1dIyeZYSNTKtpeQz7e08AtvYEjKQsMAWw7A4ZeYhRkupFTpOJdFRWXouE5aeY3nB+L7CTrhcMFLSbZ30Blgl3Ac7J3KO56dZakI/dNo4zsJQGhfCSk9NTaUr+kmfwswuLU9DYfgSrUP0lpJL+LHczs7rYUUIBDMbB1h0gKnkNG8a3XApqp/qMJoPnM8ifBTQosJILcqxlAVcR1016os31cNaJlgFWm6EpeDZUfWsRLovm+8yYOlZ1pihwIHkwvRRYfUxpuHTFEsW8vlCFDefSUYTXHEhX9L8nDq9nl+Kzdhhyes8n9Q5NMJaMLISbteE+yQTVoYoWXmgSZW5uFFzICWVUoxNk7qDKZNVFJbYN/ypzBaX7bAwFd0WcWiAFbMQsh1neISwyGzQr4OLSllqgArLSUIWd9gSa01SKULhc+wLv7qwzsBiuStTSzneDiuNrgjI5ND6GmApDPswK8q8+fQ0NtozFngocrSm7dk1xbxw3ChpkqPmDlwSuOgKbKKu2GAhe4VAIpMGWCmWgWGWJXRYmdG+G822Kyw1FsMVUwYslW2+zsnQEKQ47TdzgwT7Bhac5hxgZdpsPQYgRJEDUTVSLTEPSOaxPBnLGZdB5raR4nKaIicGC5OKWClVfQu7g0dvJYflBOMqV+pgFcnwnI4zNKLoGfOWYhUJa1VK+02hZfxb1FLSudySvmWYhaoLzrDIFm2wMI7I5UHwCT0BOW8EUwxfxNKQLOVy6Z4WuzOZlQzcb5612iXttzRxCFf00Ih+TOpbAqt8USUgDrCokbDFWctmhedX2Pbabpeo6ssr1FSQ0JH2sNCdyoQVZSWLGi04nnA8v0kDUdpSI3Ui8UZYyCFp2SUJ63QpjdJCzmm9lVXhbKxqx2OIlthP8kxshsLjGHOP8IEeQmUfA5AJq8hKFsYmbCGlpKijhj/JFZZSLPCWboiquZhpB1hR9lu8YoFVNJyhyk4HUuajipJY12o+tgt8IaMUsWZjzyvGKqzhR/MMKvycH4xHM2HFtaVIzqwuzOHGzISSOeQCZcwno9RvnKmDhTWKLzCfpq++YNQ6MlCOYdbERiLUvJGQj2nHTXGc0U6yuAQ3Xx00LD0A4tQpvQhGldNTpizDU3GWFKUqU9awaMHCDDWSfMKEFbO4bzSyImcJW5a1soe1TgCfVvVtrJa1wtwpYF8fDKyZslLWjqyUy1rsHotOL01HrV3ZGUxJ2GNGNTG9nIAaqJRjnAq7oS3LClmjXFyeTqhyuazH5DFYNEb4YGXauZpanl5azliiuFjCcmRcL6ZtK7MM4s7j7GPIJIiDzoFdwqAz0ESCUBWGD5Y4ZBnSJAqiAP8GnQ27xGp1yHLEJAovXR46WDezQ1kTRU589bLADZnVTwwnLAFhccMHa9i8KGkEqw2NYLWhEaw2NILVhkawPErE+F2DJbjlDlaCXyOpusuhlNZwOQiSOm/2KRsiwgK5hvECHiSearzwEcds2gJHMV6f844kijosV1rQH6rKOB6RpvyLhnDspSCLVtFqnQ4VUGdC0GEJbtBhNRruXrZnW3wTh0x0zEQ+jEnTHebIcjzq6EBQSgsuWYPfEn/11ltvvf3Ozy369a/exrRfWNPegaRfWi9mt5cjxAUHI1iucSma3fLb77771tu/+nn98e3Z/PUv3n73vfeNiwudShTk8XF1/NVb6vj4OTfLEqvi7Q/WUBuTF01Nbmhpk5PWpA839clGbQsAQZbGz01cPgc5q7qsCFWheudD/fCm1uYpDXKi5Wpy8s5ff3R4ge/2soggjP/m2rVrfzNx7eNrf+vSPcS+9vWNzaugvxtbNDX295h09R8sSYv/ePWTTz/pBtb4byFLE/D/45eaZwkt8Pb1tc1P4fD/9BdW/Y6yZKb982f/MrtzeONfu56sg+4B9Ooc/m2asSqcYPn6xUs0sGk3ZjaEapv3VnZYrR1RjsSJLP5tnnHIbvjzjQ/oWF+MWXWX0u5uwSL+D9zbOZy9eZ93npfQZsYEoSq6+yyR7GryHSFRwXl61hKIXKpiuWLGfDJbrUMxjyVwH0Po0NyLItDbn09+PfaA5yt3bazGFiltEVBtjX21fW9nZ/bL0L9BUqrTLFkyJ8KRX70sEpImq3Di7euTV2SBC0fCDb/KEXOkGMu5uwerOU0B8CZqcESRRh2aNziw0vnrF78GNM++WBxr0DNK2/pqbnZn9t5c6OGedDbVeZZ0iZQjDB3ItJyyhedafnrxqezejjNVuer+Lq7XcUBJuYA9nMlixhwrIlqeeP462NXW461GUkDp2WP4+9WXgOqbOUmq1Q6CAelcpzmyH9s1gsdqIT+dfFr1UnyR23+0709nwCWCxzp4/vMNZOVEauxunv/3u0Gqf3Pb0vbBIyUYCpztDyxO/vriFTAZD0G5cCKrVffoyKuaw8L46jawcjQqzcF/d2NnFlAFg4p0EK9JUqA/sDhRvj75FGuWBwTV013BpwtFzWGxdvBrbOoceG09/j1/c/Zw9qM5KSgFgdajWjAYkvyDxTWDhc0RxAxXqh4utQhV7mjXv4tEzWBBqnD7zsbXTcwKXNUFQHXhfkEKSKDjgwCYVcBHy2oGS6ySXQErD2YFnvnoyFNl9SRnWBgWChgzbDWphMFvwKtjVDWNjLYBVmi7T7AoFr3SrFWqE8QMnH8XiZrCEs4jqzHHdnD73iy4KpxO8B4YlBQ4PoZmsAeWVY9DpD4O2lWzoMJWBoHb3z8BUh7CC29qAotjMcPYY63ls7aCc7OHO/e+hFghMZ0IISWldiAFQyFfYYkCwmpIhpKHmV152Ad3cuopuPAsCEobBacP7OqKFdIWaoyiqlkMQAOawLsfnEpSUP/uEywcorml1I2NyUqcE4HV0waTc5IgnFT3/b3Md6ao1M1iUyGP4vl5ZGWJr5598WxMC0ABlVbn0F0FDrK1bfO7X5YlcN/zvH0AAycKlRbB4AGVB4sRxEcnnJdWwLt+qB+uo5vMIBa9smXG7VtbOGXsAXNVRCpkGJbybS0kBXyHxe4CsN4Twma0/cfGFdFD6wbV9egER1J9yY2mlDaaYZwoNrzBYgaDFfajIQCdxb5yMGRUOViUjmsQZfkPC6fL/m5zc/PJFUNPn2w+eXJnDeJ2L5GoKDw88ftae4F/F7KwaWbpA/i2eWfjisWlP348BqjAq380FzCpgCQlgLC2LUl+wtr8cH5+bcPUPGpT9eSvuKPnnH+toKYCfweytGHP0tr8W9be4FdbY6/fgAD09bQUkkIWMMHg8cO41CNYCr85f/WNB+cNLeJY4xtp0UtALuzv7/o/raTI35m/+tp/vvKXuj574+rVT9+YGtsy/dXYIgQLN17n+YTNrgKBrFKrbZu10ldYgvD9k3l+ylpeHO1cULmWISaEHSd/qPZiJtwPd+7wD6wBJ/aPC5ao6jFE6zuHr6KztVoVLGPMYGkXfYYlvvSzjUV7eeW4p/uQIGaQfY4ZNF24NP+ZfVhv8Ytnplk9Xhy7tbNzby5wNnPWhkUKZWvZWsBuVv7C+r/J8x0ZhxD+9sRTJNa2bl6af8WhQ6P79q0gNoGSFAoG7VyC2+Vva0GbC/MTFnSXX/pZh7COwKz8jdx1nbHD2mJeyvDtX2K4LuHYCwKyWtaxIgW3pXpWPo5nIay2t4NwlTve7cX8PKR/wdmysG/zeAvH1ucagQQlCNlPy40/DB5WlTs64vwZFq2TCywyq3vgrRrqGcIKZY8PICAdQliCfLLrd3jF5AILfD6YFXaYHWhJinRwEGj0V4OGJeA4A3g7L5d82lZTWFtjW2BW0LdxMitwVQ/3wI05OKzBwhIE8WT/RPS1O2jKARa4qrsPHjwb+xLNysl2oPZJEDM418HBwmLXvHrEyhHWIk4u+gHNSnKqgVAHpeK3yrbjT4Ouhkf7VaHaG4/lDAsC+PsXDmeZWTkgCYZeZJVQQyw6aFg0F2HvhPO/96zLyWc9+OHC7OFHf5SCAUfLkraV01ow1MS7Dw6WyIlHuy2H5btRI6yv5j46PHz5Js9Ljk4JuoJ7B008+6Atq3qyy/XMYXGNsGjQ+MZ34LSSTXhIyovmvt1PWGK7Putor8WUyu5zZIG1OIeDxt/MpQr8ejIQcCYCMQNegO6DZQkCwLrtrfDaNa/edJ6tunBp7RWIq+iizeyXVMPOnq0fd0FtB7V5Mm6o/Lxg8eOljQfengggciff7p/rTd/Zppt/mv+vZ8FvdvCiTdAJkq5sYPvFI6l5zOA3rPB/P1nz+CAdYbda9ffShLPC/P/86Tcv06w9GodxwSC9kBR3f+UnLC7Bb86/ZjxcoLnAnqp7J0I/bntd5v939nDnxhxSCgabeCpUMIQxg+Tqr3yEhQ9d2Fx7ja+0Wg0s6vlun+5bWeVvzJ65//tW9oLXvA5cUPoOS+SiBKvUck2henQi9MFfcfjQlRuzr/NvtuIQlLIPa66V1G9Yglp5ArBaPj9BPNrr2yMNYgQr1cIX4TyZ7UDLKugjLHBBP15aS7vPEscJ8/vqSbVXo8gNunlj9r1UwBUWeCpFqUnuK/kNy1NQKkDM4GUCoF+68LLTwLHNrCSIGbIufeeBwRKru9V9oY+PWkBY7sUPYcyw7b7OYGAJ8inOVRsiywpK5UcQX3mqg/2EBWs8PxG0Cf19kjuskDZPxptz7ycssSoIR/u97Dk7qAUsnIhc82hU/YXVk3kyLdSiGm4fP2zRCxoQLGF//4TmVPtyOI9yh5Wt1Wp4SXXIYIGb2j2t9v/e/OawcAjixanbQMTAYInySXW/Z5cmmqs5rKAUOogrQc9BQz8tC6959eRSqrtcYAVrj6RQdkCWJTaFBZXvOTOrYamGIaiGe0o24Hj5vi+whCZTjqAjKECANZDnWF14eWeu0S/hDGSA1SYoH2GJbDKbg/EI3PMjbkDPKjwDluUw6hfEa17tOnd/Yf14aW3JYQxeqJ4MyK447rsbs9+fDdZ3ZvBmywO3gdNew8LBoyfzDc+BB0i7p3jr0kAsK4LjWZWzVlhBnCez94cWl7x6DmuJxuDtj84WBIwZBvbcvVUa/Ju2OidJCWYPskonpPyEtUCwVm1pIrd/2rt5Mi3FE6x0yGJZoVCgdor3hg8W1jTBsj8FSHiIMcPAnhVaaLSsQPY4q4Q6qoP+wRK4mTqfhdfmxT2qg4OChT7rfs4kI4W2A9k9pSPf7icscOI/bq5Zr0iDT39+NKhmUBO1hmZZg5Kyd+A0Zbv/sCjOMiXI1ZN9zsvtc73ThD3OgmbxoLbdaR30DxZF8BdvW5OOTgX3p9r1XjdfPpwLmLCkvT3oQHfOqkcdaZx+Vd0f+MMJLX1DSZtb2zmpnsHi8N7wfl0dbC4LrFBo+8VpWyN9fYNVfV6VhQGM9tXJalnZYynk/dJE32CJ0B/c2x/A8FWDNFh4l3NIOVWazOceJCyghLcuDR6VAQuqoLR3EG9zWLQvsKpC9Whw/UGb9GoYVLIvXO4FGCAs8Xn/5sm0kF4Npb3jQEDpmpXvsITqPs5n6J6WHxfNEBZenK8ptfYuEDorePacLxUGdkLDygJ38sifiEHkupv5TVO70bJCwRen2S6bQQOWL0XTYVWPqt4eVtd6j62fi+QqHVZQedHx+FWD/LSsRY5iBl/iKzEr+wHrllTG8Ss/aEmhW77BenNz7bU/7+NTGn1pCsXfjne7G+H+jdnX/6ygtwp2K4Q1d80vB5+hwb8233XvIvFa17CSNPiXCHXXxzEta27Cr5HSNM1WLvgWYAGsbnfBhpWnJD9EsM74DUv0RwLAMr50CSvkkxBWl1nSlOE/+SXP/3HizMQZfzRxRt8VVMiOoq4k//77Ff67CR91Qc/deHcBEr5vdnncN2UnLhvL4c5gCfhuh6h/Wbp8Jmssy112fmORmI+DMiI0PZgfgQVcne14JhJr8V6GdjQ+IevZcHvyvReJNLuWPYvdB4kfj4vayzo6njAosD++wbomm6Ub+GCdVQBrKEYuTAkIa9CZcJZ4Sx02WOduDVmODAnVYXtJKI4AD1eODIk9vd28M/V5snWd1NSy+WLjiKJ4umuYCyuK4viyp5hiyvUGNdxDfVpZKTe+XMNJcQWfqxun3KosK4pS/6hd/5XUXpldIFxp2zNhXRThGyaCMRkv5eZ59xuQI5Y3oeuCJG+vAivQ28AXKLdFlhWM5zxt27kKZtHwPE9Z3ifjKiyqoxFYYbm+4KgrWAsEK025NWF1/N4bb8JXseei5SK+2b4S9gtWeoqUdt2VE6xU0eObYgYBK06vnsOlDDuWBZbNI4Xt/kl2h+XuO7TNLLBkpz3Jzb7gygt6NUz2rxoumJ5ngVyMDitCpqa9+qqIj/znV1KwGM+vLiDY1AykyIn1Vapp8sLqekrbpR0WrLGKPnh1dT3BZVZWojGs90tYXh2WgpngKwnkUSnlI1xsZbXEanOZ9iGTW51mQFWsC2k1bTm1CmzNYKW4Hkq2PBE9Fo9HDFgJzenQK8ymdBc0TaZYwHIUEVYY/8xw9jpZZ1nrdA6gbCu01wVtV6oBy/BxiJ18Fuw1px0TacUq2gq4V/YYcn69RLCW6W+M1Y5C9y8Rc1Wk4WwY54pPKokc5QWtvBiL4YCGjLDy8C/PYGEGkW2SN98Mh4VfSDMBElwvUWRFpVOQLCdZO8lg0e+xWIK5dh0WnMPMNFtNXoEvxTJQznOsKkQVApygHSp0yvGML3t8VkqnUrQ2sB7WOjunQCYX5pKlEkYTMSowPc29GNZ9VoYVYVWvMZy9NVTZ90qFvd8OiWDNLhITBitVKhBnlhMD1jLbMi/jRmT8JTxGRMtwmcEqM3Or0DTaBFXGvsOCLOVnYrGYyqNlM9+qRg1Y1OYwWKpeurzhgethseCEXFtCd+klhGdtDdVUHaw4p/sisKUM5CVG1gs7p0d8yCzOmmG1f4E8e5Ff7fSVqJ6E+dUvb6jxeFyDVbaUF36Wi0uldc1rxHXvpLmpKWyCotZIFmFFZFRYc8m8vo1uJLjVsgGrvFxaob1bYWGFiiMsecXMSx6rGjsSc/AqO0nTZK9xDw/h6Uq8GTgmySc1wIoyF8IXlg1YnAUW2ibWQjOUbAgd4rxuvwCL3dCwhFbCYIUJxkoyZ4cV02GF1y2ZQVgsspkiWGFmZ0k6vNr160dbaIo3mpA8OWmCpVDbpatET5S3+CxK1WDJ6N5s/Zp6WDIrJ1oAwFqntAWtsvPEbRWLWmkCCw9vNnJJ/eSyOItTqaLL7Hgxb93K1lIzmQxlIJNJYb5TmQyaLuYrR23IEnO+BEvmNVPJJJOqmmNfIo6wMPsVW+gcpUokM3G0x1KJlTGhUVArurOmc1TUkDrDWtJq3kwyWSRD1iMIbKhTGWhYIplUArKSSGVaPoXHm3RXntTcLq9ZA7njqWRyVauQrDUEay9FVPTpq1w4T44rnCYIDbAipic3YeU1rYSpSsc134iwViPqzALthMFaJRbyclNYtK2qKnn8CT3YSiQ8U2KwVijTCV6P4Lt+w3QDLGpgK7o964MOUAzVgCUbjoLFqRA45XmqsQ2wsJrYnIW1NayEwzzBSFL5ExSkkYo6LFy9lF7V0hxgGQEyGZiiLecJVokOnTFgeRsw8QxrWcsIz+uP2SqX2OGTVPQ0Oz3yNKUV0FuoFHXninkMYG2wyJ4wq2XLkUz6uEZBiyrW0Q1CsUuKzkrblbxECRnWJ+b1AExrDekQRUaYVfVyjpaXsOmR84ZlxWhb+/1wHQvaceoL4yd+D2ufqFgxkdEH8uSw1mUOK6mi7qdjqVRE5mgP+vbmAkSYOWt8gz8YklVtf7R6AonJSkYJW/cQK6bi+o5Zkhq2rcDJM7SKtv94pqxq+WSl0NYLh8M9jbO6lpLK5Lxbf8LWyv7kxOqc19HcESw+57nBjrKe5E9VKo3reFVMifd0EGWkkUYaaaSRRhpppJFGGumnoP8HkhaBShGonuQAAAAASUVORK5CYII=)\n",
        "\n",
        "The higher the AUC, the better the performance of the model at distinguishing between the positive and negative classes.\n",
        "\n"
      ]
    },
    {
      "cell_type": "markdown",
      "metadata": {
        "id": "c6to7XVzgxGY"
      },
      "source": [
        "##**3.6 Apply the LR**"
      ]
    },
    {
      "cell_type": "code",
      "metadata": {
        "colab": {
          "base_uri": "https://localhost:8080/"
        },
        "id": "g4K_DAlb4u_9",
        "outputId": "c65c9a37-20b1-4837-9bf1-d3ff7b5e63cd"
      },
      "source": [
        "LogisticRegressionModel = LogisticRegression(penalty='l2',solver='sag',C=1.0,random_state=42,max_iter=100)\n",
        "LogisticRegressionModel.fit(X_train, y_train)"
      ],
      "execution_count": null,
      "outputs": [
        {
          "output_type": "stream",
          "name": "stderr",
          "text": [
            "/usr/local/lib/python3.7/dist-packages/sklearn/utils/validation.py:760: DataConversionWarning: A column-vector y was passed when a 1d array was expected. Please change the shape of y to (n_samples, ), for example using ravel().\n",
            "  y = column_or_1d(y, warn=True)\n",
            "/usr/local/lib/python3.7/dist-packages/sklearn/linear_model/_sag.py:330: ConvergenceWarning: The max_iter was reached which means the coef_ did not converge\n",
            "  \"the coef_ did not converge\", ConvergenceWarning)\n"
          ]
        },
        {
          "output_type": "execute_result",
          "data": {
            "text/plain": [
              "LogisticRegression(C=1.0, class_weight=None, dual=False, fit_intercept=True,\n",
              "                   intercept_scaling=1, l1_ratio=None, max_iter=100,\n",
              "                   multi_class='auto', n_jobs=None, penalty='l2',\n",
              "                   random_state=42, solver='sag', tol=0.0001, verbose=0,\n",
              "                   warm_start=False)"
            ]
          },
          "metadata": {},
          "execution_count": 77
        }
      ]
    },
    {
      "cell_type": "code",
      "metadata": {
        "id": "8QziTuh5ANzP"
      },
      "source": [
        "LR_y_pred = LogisticRegressionModel.predict(X_test)"
      ],
      "execution_count": null,
      "outputs": []
    },
    {
      "cell_type": "markdown",
      "metadata": {
        "id": "YUrlk7YiuLib"
      },
      "source": [
        "##**3.7 Compute AUC for both models**"
      ]
    },
    {
      "cell_type": "code",
      "metadata": {
        "colab": {
          "base_uri": "https://localhost:8080/"
        },
        "id": "eWgrw4tJx3n9",
        "outputId": "488b124c-4963-4b37-d959-3d85ab6f40de"
      },
      "source": [
        "GMM_fpr, GMM_tpr, GMM_thresholds = metrics.roc_curve(y_test, GMM_y_pre)\n",
        "print('GMM AUC :',metrics.auc(GMM_fpr, GMM_tpr)) #False Positive Rate=FP/(FP+TN)\n",
        "                                                 #True Positive Rate=TP/(TP+FN)"
      ],
      "execution_count": null,
      "outputs": [
        {
          "output_type": "stream",
          "name": "stdout",
          "text": [
            "GMM AUC : 0.9787234042553191\n"
          ]
        }
      ]
    },
    {
      "cell_type": "code",
      "metadata": {
        "colab": {
          "base_uri": "https://localhost:8080/"
        },
        "id": "3cahryIcATwC",
        "outputId": "fd319676-884e-41ec-d6cb-3e244dda8934"
      },
      "source": [
        "LR_fpr, LR_tpr, LR_thresholds = metrics.roc_curve(y_test, LR_y_pred)\n",
        "print('LR AUC :',metrics.auc(LR_fpr, LR_tpr))"
      ],
      "execution_count": null,
      "outputs": [
        {
          "output_type": "stream",
          "name": "stdout",
          "text": [
            "LR AUC : 0.75\n"
          ]
        }
      ]
    },
    {
      "cell_type": "markdown",
      "metadata": {
        "id": "kLzy3A6gjOCs"
      },
      "source": [
        "##**AUC Score of GGM is 0.97 and Logistic Regression Model is 0.75 so the GMM is better that LR with Anomaly Detection**"
      ]
    },
    {
      "cell_type": "markdown",
      "metadata": {
        "id": "NKvruwA7dZn5"
      },
      "source": [
        "##**Resources have been used:**\n",
        "http://odds.cs.stonybrook.edu/lympho/?fbclid=IwAR0LGJDFkII3g83oSY0Yu_olKLG9Vm2E_M9cish_6x1MWKDSUXS1LmNw64E"
      ]
    }
  ]
}