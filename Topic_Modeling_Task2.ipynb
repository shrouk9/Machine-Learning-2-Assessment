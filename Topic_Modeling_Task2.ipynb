{
  "nbformat": 4,
  "nbformat_minor": 0,
  "metadata": {
    "colab": {
      "name": "Topic Modeling Task.ipynb",
      "provenance": [],
      "collapsed_sections": []
    },
    "kernelspec": {
      "name": "python3",
      "display_name": "Python 3"
    },
    "language_info": {
      "name": "python"
    }
  },
  "cells": [
    {
      "cell_type": "markdown",
      "metadata": {
        "id": "4Ih8ku8a9pwr"
      },
      "source": [
        "# **Task 2. Topic Modelling:**\n",
        "###**P.S. I seriously worked on this task as I tried two datasets and this is what I came up with but I don't feel that my information regarding this is complete yet!**\n",
        "#**First trial**\n",
        "1. In the first trial, I've performed a topic modeling on Twitter data to find what people are tweeting about in relation to climate change. \n"
      ]
    },
    {
      "cell_type": "markdown",
      "metadata": {
        "id": "ZIDiar0ju3CP"
      },
      "source": [
        "Topic Modeling is a technique to extract the hidden topics from large volumes of text. Latent Dirichlet Allocation(LDA) is a popular algorithm for topic modeling with excellent implementations in the Python’s Gensim package. \n"
      ]
    },
    {
      "cell_type": "markdown",
      "metadata": {
        "id": "pylI7oUTzXQI"
      },
      "source": [
        "##**2.1 Import Packages**\n",
        "\n",
        "\n"
      ]
    },
    {
      "cell_type": "code",
      "metadata": {
        "id": "R2hO84LKziz4"
      },
      "source": [
        "# packages to store and manipulate data\n",
        "import pandas as pd\n",
        "import numpy as np\n",
        "\n",
        "# plotting packages\n",
        "import matplotlib.pyplot as plt\n",
        "import seaborn as sns\n",
        "# model building package\n",
        "import sklearn\n",
        "\n",
        "# package to clean text\n",
        "import re"
      ],
      "execution_count": null,
      "outputs": []
    },
    {
      "cell_type": "markdown",
      "metadata": {
        "id": "Q9Z5uTit5EFt"
      },
      "source": [
        "### Next we will read in this dataset and have a look at it."
      ]
    },
    {
      "cell_type": "code",
      "metadata": {
        "id": "s9w_aYjiuao7",
        "colab": {
          "base_uri": "https://localhost:8080/",
          "height": 112
        },
        "outputId": "db802982-fb58-4329-9a0d-e4ba386ab8c4"
      },
      "source": [
        "df = pd.read_csv('https://raw.githubusercontent.com/ourcodingclub/CC-topic-modelling-python/master/climate_tweets.csv')\n",
        "df.head(2)"
      ],
      "execution_count": null,
      "outputs": [
        {
          "output_type": "execute_result",
          "data": {
            "text/html": [
              "<div>\n",
              "<style scoped>\n",
              "    .dataframe tbody tr th:only-of-type {\n",
              "        vertical-align: middle;\n",
              "    }\n",
              "\n",
              "    .dataframe tbody tr th {\n",
              "        vertical-align: top;\n",
              "    }\n",
              "\n",
              "    .dataframe thead th {\n",
              "        text-align: right;\n",
              "    }\n",
              "</style>\n",
              "<table border=\"1\" class=\"dataframe\">\n",
              "  <thead>\n",
              "    <tr style=\"text-align: right;\">\n",
              "      <th></th>\n",
              "      <th>tweet</th>\n",
              "    </tr>\n",
              "  </thead>\n",
              "  <tbody>\n",
              "    <tr>\n",
              "      <th>0</th>\n",
              "      <td>Global warming report urges governments to act...</td>\n",
              "    </tr>\n",
              "    <tr>\n",
              "      <th>1</th>\n",
              "      <td>Fighting poverty and global warming in Africa ...</td>\n",
              "    </tr>\n",
              "  </tbody>\n",
              "</table>\n",
              "</div>"
            ],
            "text/plain": [
              "                                               tweet\n",
              "0  Global warming report urges governments to act...\n",
              "1  Fighting poverty and global warming in Africa ..."
            ]
          },
          "metadata": {},
          "execution_count": 5
        }
      ]
    },
    {
      "cell_type": "code",
      "metadata": {
        "colab": {
          "base_uri": "https://localhost:8080/",
          "height": 35
        },
        "id": "4fMdO9Kh42ey",
        "outputId": "6433d24b-a0b9-475b-dad5-38375af0212d"
      },
      "source": [
        "df.tweet[0]"
      ],
      "execution_count": null,
      "outputs": [
        {
          "output_type": "execute_result",
          "data": {
            "application/vnd.google.colaboratory.intrinsic+json": {
              "type": "string"
            },
            "text/plain": [
              "'Global warming report urges governments to act|BRUSSELS, Belgium (AP) - The world faces increased hunger and .. [link]'"
            ]
          },
          "metadata": {},
          "execution_count": 6
        }
      ]
    },
    {
      "cell_type": "markdown",
      "metadata": {
        "id": "souJEdPm8cLD"
      },
      "source": [
        "##**2.2. EDA - Time to start exploring our dataset**"
      ]
    },
    {
      "cell_type": "code",
      "metadata": {
        "colab": {
          "base_uri": "https://localhost:8080/"
        },
        "id": "FA0_0CHo8D6Z",
        "outputId": "32638dd2-58f3-4419-e871-fa13b8abbe21"
      },
      "source": [
        "df.shape"
      ],
      "execution_count": null,
      "outputs": [
        {
          "output_type": "execute_result",
          "data": {
            "text/plain": [
              "(6090, 1)"
            ]
          },
          "metadata": {},
          "execution_count": 7
        }
      ]
    },
    {
      "cell_type": "markdown",
      "metadata": {
        "id": "hUeGHCpLEt7g"
      },
      "source": [
        "So we have 6090 tweets "
      ]
    },
    {
      "cell_type": "markdown",
      "metadata": {
        "id": "6WnL-Bc6H1Na"
      },
      "source": [
        "##**Finding Retweets**\n",
        "There are tweets that start with ‘RT’ and hence how many of them are retweets. Use the lines below to find out how many retweets there are in the dataset."
      ]
    },
    {
      "cell_type": "code",
      "metadata": {
        "colab": {
          "base_uri": "https://localhost:8080/"
        },
        "id": "QkFY-ZF_E-Ln",
        "outputId": "55b0b78f-6160-4462-f257-ac818d68030d"
      },
      "source": [
        "# make a new column to highlight retweets\n",
        "df['is_retweet'] = df['tweet'].apply(lambda x: x[:2]=='RT')\n",
        "df['is_retweet'].sum()  # number of retweets"
      ],
      "execution_count": null,
      "outputs": [
        {
          "output_type": "execute_result",
          "data": {
            "text/plain": [
              "773"
            ]
          },
          "metadata": {},
          "execution_count": 8
        }
      ]
    },
    {
      "cell_type": "code",
      "metadata": {
        "colab": {
          "base_uri": "https://localhost:8080/",
          "height": 112
        },
        "id": "q0ngfwtaIWiC",
        "outputId": "3713d3ba-f63f-465a-bccb-b2caaab8e447"
      },
      "source": [
        "df.head(2)"
      ],
      "execution_count": null,
      "outputs": [
        {
          "output_type": "execute_result",
          "data": {
            "text/html": [
              "<div>\n",
              "<style scoped>\n",
              "    .dataframe tbody tr th:only-of-type {\n",
              "        vertical-align: middle;\n",
              "    }\n",
              "\n",
              "    .dataframe tbody tr th {\n",
              "        vertical-align: top;\n",
              "    }\n",
              "\n",
              "    .dataframe thead th {\n",
              "        text-align: right;\n",
              "    }\n",
              "</style>\n",
              "<table border=\"1\" class=\"dataframe\">\n",
              "  <thead>\n",
              "    <tr style=\"text-align: right;\">\n",
              "      <th></th>\n",
              "      <th>tweet</th>\n",
              "      <th>is_retweet</th>\n",
              "    </tr>\n",
              "  </thead>\n",
              "  <tbody>\n",
              "    <tr>\n",
              "      <th>0</th>\n",
              "      <td>Global warming report urges governments to act...</td>\n",
              "      <td>False</td>\n",
              "    </tr>\n",
              "    <tr>\n",
              "      <th>1</th>\n",
              "      <td>Fighting poverty and global warming in Africa ...</td>\n",
              "      <td>False</td>\n",
              "    </tr>\n",
              "  </tbody>\n",
              "</table>\n",
              "</div>"
            ],
            "text/plain": [
              "                                               tweet  is_retweet\n",
              "0  Global warming report urges governments to act...       False\n",
              "1  Fighting poverty and global warming in Africa ...       False"
            ]
          },
          "metadata": {},
          "execution_count": 9
        }
      ]
    },
    {
      "cell_type": "code",
      "metadata": {
        "colab": {
          "base_uri": "https://localhost:8080/"
        },
        "id": "klhjIYybIXuc",
        "outputId": "8a345aeb-e242-4755-c43b-5e7aa4f46033"
      },
      "source": [
        " # number of unique retweets\n",
        "df.loc[df['is_retweet']].tweet.unique().size"
      ],
      "execution_count": null,
      "outputs": [
        {
          "output_type": "execute_result",
          "data": {
            "text/plain": [
              "677"
            ]
          },
          "metadata": {},
          "execution_count": 10
        }
      ]
    },
    {
      "cell_type": "markdown",
      "metadata": {
        "id": "85uLq_aqI8zI"
      },
      "source": [
        "### **Let's see the popular tweets by counting the number of times that each tweet is repeated in our dataframe, and sort by the number of times that each tweet appears. Then look at the top 10 tweets.**\n",
        "\n",
        "\n",
        "\n"
      ]
    },
    {
      "cell_type": "code",
      "metadata": {
        "colab": {
          "base_uri": "https://localhost:8080/",
          "height": 363
        },
        "id": "O3vOQ-gLJB-h",
        "outputId": "afa02d11-e200-491e-aad9-c379f7f20481"
      },
      "source": [
        "# 10 most repeated tweets\n",
        "df.groupby(['tweet']).size().reset_index(name='counts')\\\n",
        "  .sort_values('counts', ascending=False).head(10)"
      ],
      "execution_count": null,
      "outputs": [
        {
          "output_type": "execute_result",
          "data": {
            "text/html": [
              "<div>\n",
              "<style scoped>\n",
              "    .dataframe tbody tr th:only-of-type {\n",
              "        vertical-align: middle;\n",
              "    }\n",
              "\n",
              "    .dataframe tbody tr th {\n",
              "        vertical-align: top;\n",
              "    }\n",
              "\n",
              "    .dataframe thead th {\n",
              "        text-align: right;\n",
              "    }\n",
              "</style>\n",
              "<table border=\"1\" class=\"dataframe\">\n",
              "  <thead>\n",
              "    <tr style=\"text-align: right;\">\n",
              "      <th></th>\n",
              "      <th>tweet</th>\n",
              "      <th>counts</th>\n",
              "    </tr>\n",
              "  </thead>\n",
              "  <tbody>\n",
              "    <tr>\n",
              "      <th>3131</th>\n",
              "      <td>No matter if you believe in global warming or ...</td>\n",
              "      <td>20</td>\n",
              "    </tr>\n",
              "    <tr>\n",
              "      <th>4555</th>\n",
              "      <td>Take Action @change: Help Protect Wildlife Hab...</td>\n",
              "      <td>14</td>\n",
              "    </tr>\n",
              "    <tr>\n",
              "      <th>4027</th>\n",
              "      <td>RT @newtgingrich: Historic snow storm in washi...</td>\n",
              "      <td>9</td>\n",
              "    </tr>\n",
              "    <tr>\n",
              "      <th>1765</th>\n",
              "      <td>Fight Climate Change From All Fronts: [link]</td>\n",
              "      <td>8</td>\n",
              "    </tr>\n",
              "    <tr>\n",
              "      <th>1626</th>\n",
              "      <td>Earth's polar ice sheets vulnerable to even mo...</td>\n",
              "      <td>7</td>\n",
              "    </tr>\n",
              "    <tr>\n",
              "      <th>1941</th>\n",
              "      <td>Global Warming Dent's El Ni'o's Protective Shi...</td>\n",
              "      <td>7</td>\n",
              "    </tr>\n",
              "    <tr>\n",
              "      <th>1799</th>\n",
              "      <td>Foes of California's global warming law pour m...</td>\n",
              "      <td>6</td>\n",
              "    </tr>\n",
              "    <tr>\n",
              "      <th>1351</th>\n",
              "      <td>Coalition of the Tired of Waiting: Fighting Cl...</td>\n",
              "      <td>6</td>\n",
              "    </tr>\n",
              "    <tr>\n",
              "      <th>4271</th>\n",
              "      <td>SCIENCE: Scientists explore the evolution of c...</td>\n",
              "      <td>6</td>\n",
              "    </tr>\n",
              "    <tr>\n",
              "      <th>1040</th>\n",
              "      <td>Carbon offsets: How a Vatican forest failed to...</td>\n",
              "      <td>6</td>\n",
              "    </tr>\n",
              "  </tbody>\n",
              "</table>\n",
              "</div>"
            ],
            "text/plain": [
              "                                                  tweet  counts\n",
              "3131  No matter if you believe in global warming or ...      20\n",
              "4555  Take Action @change: Help Protect Wildlife Hab...      14\n",
              "4027  RT @newtgingrich: Historic snow storm in washi...       9\n",
              "1765       Fight Climate Change From All Fronts: [link]       8\n",
              "1626  Earth's polar ice sheets vulnerable to even mo...       7\n",
              "1941  Global Warming Dent's El Ni'o's Protective Shi...       7\n",
              "1799  Foes of California's global warming law pour m...       6\n",
              "1351  Coalition of the Tired of Waiting: Fighting Cl...       6\n",
              "4271  SCIENCE: Scientists explore the evolution of c...       6\n",
              "1040  Carbon offsets: How a Vatican forest failed to...       6"
            ]
          },
          "metadata": {},
          "execution_count": 11
        }
      ]
    },
    {
      "cell_type": "markdown",
      "metadata": {
        "id": "xJAWTBpzU7o7"
      },
      "source": [
        "##**2.3. @who? #what? - Extracting substrings with regular expressions from each tweet**"
      ]
    },
    {
      "cell_type": "code",
      "metadata": {
        "id": "wob7CdbyUSGh"
      },
      "source": [
        "#who is being retweeted (if any)\n",
        "def find_retweeted(tweet):\n",
        "    '''This function will extract the twitter handles of retweed people'''\n",
        "    return re.findall('(?<=RT\\s)(@[A-Za-z]+[A-Za-z0-9-_]+)', tweet) ##re package can be used to extract \n",
        "                                                                    ##or replace certain patterns in string data in Pytho\n",
        "#who is being tweeted at/mentioned (if any)\n",
        "def find_mentioned(tweet):\n",
        "    '''This function will extract the twitter handles of people mentioned in the tweet'''\n",
        "    return re.findall('(?<!RT\\s)(@[A-Za-z]+[A-Za-z0-9-_]+)', tweet)  \n",
        "\n",
        "#what hashtags are being used (if any)\n",
        "def find_hashtags(tweet):\n",
        "    '''This function will extract hashtags'''\n",
        "    return re.findall('(#[A-Za-z]+[A-Za-z0-9-_]+)', tweet)   "
      ],
      "execution_count": null,
      "outputs": []
    },
    {
      "cell_type": "markdown",
      "metadata": {
        "id": "UVqbTJllos3V"
      },
      "source": [
        "##**Let's try**"
      ]
    },
    {
      "cell_type": "code",
      "metadata": {
        "id": "HxR5A0Q6j06o"
      },
      "source": [
        "# two sample tweets\n",
        "my_tweet = 'RT @our_codingclub: Can @you find #all the #hashtags?'\n",
        "my_other_tweet = 'Not a retweet. All views @my own'"
      ],
      "execution_count": null,
      "outputs": []
    },
    {
      "cell_type": "code",
      "metadata": {
        "colab": {
          "base_uri": "https://localhost:8080/"
        },
        "id": "fPukIRklonrd",
        "outputId": "c4cbe63d-932f-4d02-a678-14b28d734896"
      },
      "source": [
        "print(find_hashtags(my_tweet))\n",
        "print(find_mentioned(my_tweet))\n",
        "print(find_retweeted(my_tweet))"
      ],
      "execution_count": null,
      "outputs": [
        {
          "output_type": "stream",
          "name": "stdout",
          "text": [
            "['#all', '#hashtags']\n",
            "['@you']\n",
            "['@our_codingclub']\n"
          ]
        }
      ]
    },
    {
      "cell_type": "code",
      "metadata": {
        "colab": {
          "base_uri": "https://localhost:8080/"
        },
        "id": "k4B-Gv_OodGv",
        "outputId": "87d85475-8638-471b-b64b-8216640f0df6"
      },
      "source": [
        "print(find_hashtags(my_other_tweet))\n",
        "print(find_mentioned(my_other_tweet))\n",
        "print(find_retweeted(my_other_tweet))"
      ],
      "execution_count": null,
      "outputs": [
        {
          "output_type": "stream",
          "name": "stdout",
          "text": [
            "[]\n",
            "['@my']\n",
            "[]\n"
          ]
        }
      ]
    },
    {
      "cell_type": "markdown",
      "metadata": {
        "id": "jdQaP2kgnLGq"
      },
      "source": [
        "##**Now going to make 3 new columns in our dataframe**:\n",
        " "
      ]
    },
    {
      "cell_type": "code",
      "metadata": {
        "id": "nbeqKi7lnhEv"
      },
      "source": [
        "#each entry in these new columns will contain a list rather than a single value\n",
        "df['retweeted'] = df.tweet.apply(find_retweeted) # new column for retweeted usernames\n",
        "df['mentioned'] = df.tweet.apply(find_mentioned) # new column for mentioned usernames\n",
        "df['hashtags'] = df.tweet.apply(find_hashtags)   # new column for hashtags"
      ],
      "execution_count": null,
      "outputs": []
    },
    {
      "cell_type": "code",
      "metadata": {
        "colab": {
          "base_uri": "https://localhost:8080/",
          "height": 112
        },
        "id": "smuyYLqtj1YW",
        "outputId": "338ee9f0-35a8-4e44-ba0a-f201567724b4"
      },
      "source": [
        "df.tail(2)"
      ],
      "execution_count": null,
      "outputs": [
        {
          "output_type": "execute_result",
          "data": {
            "text/html": [
              "<div>\n",
              "<style scoped>\n",
              "    .dataframe tbody tr th:only-of-type {\n",
              "        vertical-align: middle;\n",
              "    }\n",
              "\n",
              "    .dataframe tbody tr th {\n",
              "        vertical-align: top;\n",
              "    }\n",
              "\n",
              "    .dataframe thead th {\n",
              "        text-align: right;\n",
              "    }\n",
              "</style>\n",
              "<table border=\"1\" class=\"dataframe\">\n",
              "  <thead>\n",
              "    <tr style=\"text-align: right;\">\n",
              "      <th></th>\n",
              "      <th>tweet</th>\n",
              "      <th>is_retweet</th>\n",
              "      <th>retweeted</th>\n",
              "      <th>mentioned</th>\n",
              "      <th>hashtags</th>\n",
              "    </tr>\n",
              "  </thead>\n",
              "  <tbody>\n",
              "    <tr>\n",
              "      <th>6088</th>\n",
              "      <td>One-Eyed Golfer: Don't dare tell me about glob...</td>\n",
              "      <td>False</td>\n",
              "      <td>[]</td>\n",
              "      <td>[]</td>\n",
              "      <td>[]</td>\n",
              "    </tr>\n",
              "    <tr>\n",
              "      <th>6089</th>\n",
              "      <td>man made global warming a hair brained theory ...</td>\n",
              "      <td>False</td>\n",
              "      <td>[]</td>\n",
              "      <td>[]</td>\n",
              "      <td>[#tcot, #p2, #climategate]</td>\n",
              "    </tr>\n",
              "  </tbody>\n",
              "</table>\n",
              "</div>"
            ],
            "text/plain": [
              "                                                  tweet  ...                    hashtags\n",
              "6088  One-Eyed Golfer: Don't dare tell me about glob...  ...                          []\n",
              "6089  man made global warming a hair brained theory ...  ...  [#tcot, #p2, #climategate]\n",
              "\n",
              "[2 rows x 5 columns]"
            ]
          },
          "metadata": {},
          "execution_count": 18
        }
      ]
    },
    {
      "cell_type": "markdown",
      "metadata": {
        "id": "g6F0iH9-qg7I"
      },
      "source": [
        "##**4. Keyword Correlations in Text**\n",
        "Now, we want to know who is highly retweeted, who is highly mentioned, and what popular hashtags are going around.\n",
        "\n",
        "First we will select the column of hashtags from the dataframe, and take only the rows where there actually is a hashtag"
      ]
    },
    {
      "cell_type": "code",
      "metadata": {
        "colab": {
          "base_uri": "https://localhost:8080/",
          "height": 112
        },
        "id": "i-He14HjqtG5",
        "outputId": "98c013cf-6d6a-4d9d-aa79-9147030df439"
      },
      "source": [
        "# take the rows from the hashtag columns where there are actually hashtags\n",
        "hashtags_list_df = df.loc[df.hashtags.apply(lambda hashtags_list: hashtags_list !=[]),['hashtags']]\n",
        "hashtags_list_df.head(2)                                   "
      ],
      "execution_count": null,
      "outputs": [
        {
          "output_type": "execute_result",
          "data": {
            "text/html": [
              "<div>\n",
              "<style scoped>\n",
              "    .dataframe tbody tr th:only-of-type {\n",
              "        vertical-align: middle;\n",
              "    }\n",
              "\n",
              "    .dataframe tbody tr th {\n",
              "        vertical-align: top;\n",
              "    }\n",
              "\n",
              "    .dataframe thead th {\n",
              "        text-align: right;\n",
              "    }\n",
              "</style>\n",
              "<table border=\"1\" class=\"dataframe\">\n",
              "  <thead>\n",
              "    <tr style=\"text-align: right;\">\n",
              "      <th></th>\n",
              "      <th>hashtags</th>\n",
              "    </tr>\n",
              "  </thead>\n",
              "  <tbody>\n",
              "    <tr>\n",
              "      <th>12</th>\n",
              "      <td>[#Climate, #population]</td>\n",
              "    </tr>\n",
              "    <tr>\n",
              "      <th>16</th>\n",
              "      <td>[#EarthDay]</td>\n",
              "    </tr>\n",
              "  </tbody>\n",
              "</table>\n",
              "</div>"
            ],
            "text/plain": [
              "                   hashtags\n",
              "12  [#Climate, #population]\n",
              "16              [#EarthDay]"
            ]
          },
          "metadata": {},
          "execution_count": 19
        }
      ]
    },
    {
      "cell_type": "code",
      "metadata": {
        "id": "0Rbgbb_nrDny"
      },
      "source": [
        "highly_mentioned_list_df = df.loc[df.mentioned.apply(lambda mentioned_list: mentioned_list !=[]),['mentioned']]\n",
        "highly_retweeted_list_df = df.loc[df.retweeted.apply(lambda retweeted_list: retweeted_list !=[]),['retweeted']]"
      ],
      "execution_count": null,
      "outputs": []
    },
    {
      "cell_type": "code",
      "metadata": {
        "colab": {
          "base_uri": "https://localhost:8080/",
          "height": 206
        },
        "id": "61in1RQ_rlAZ",
        "outputId": "faf09b88-1513-4d33-a44c-a3f964f9da7e"
      },
      "source": [
        "# create dataframe where each use of hashtag gets its own row\n",
        "flattened_hashtags_df = pd.DataFrame([hashtag for hashtags_list in hashtags_list_df.hashtags \n",
        "                                      for hashtag in hashtags_list],columns=['hashtag'])\n",
        "flattened_hashtags_df.head()"
      ],
      "execution_count": null,
      "outputs": [
        {
          "output_type": "execute_result",
          "data": {
            "text/html": [
              "<div>\n",
              "<style scoped>\n",
              "    .dataframe tbody tr th:only-of-type {\n",
              "        vertical-align: middle;\n",
              "    }\n",
              "\n",
              "    .dataframe tbody tr th {\n",
              "        vertical-align: top;\n",
              "    }\n",
              "\n",
              "    .dataframe thead th {\n",
              "        text-align: right;\n",
              "    }\n",
              "</style>\n",
              "<table border=\"1\" class=\"dataframe\">\n",
              "  <thead>\n",
              "    <tr style=\"text-align: right;\">\n",
              "      <th></th>\n",
              "      <th>hashtag</th>\n",
              "    </tr>\n",
              "  </thead>\n",
              "  <tbody>\n",
              "    <tr>\n",
              "      <th>0</th>\n",
              "      <td>#Climate</td>\n",
              "    </tr>\n",
              "    <tr>\n",
              "      <th>1</th>\n",
              "      <td>#population</td>\n",
              "    </tr>\n",
              "    <tr>\n",
              "      <th>2</th>\n",
              "      <td>#EarthDay</td>\n",
              "    </tr>\n",
              "    <tr>\n",
              "      <th>3</th>\n",
              "      <td>#ac</td>\n",
              "    </tr>\n",
              "    <tr>\n",
              "      <th>4</th>\n",
              "      <td>#tcot</td>\n",
              "    </tr>\n",
              "  </tbody>\n",
              "</table>\n",
              "</div>"
            ],
            "text/plain": [
              "       hashtag\n",
              "0     #Climate\n",
              "1  #population\n",
              "2    #EarthDay\n",
              "3          #ac\n",
              "4        #tcot"
            ]
          },
          "metadata": {},
          "execution_count": 21
        }
      ]
    },
    {
      "cell_type": "markdown",
      "metadata": {
        "id": "p7LS-WvSxAg9"
      },
      "source": [
        "###**Now, let's find the unique number of hashtags.**"
      ]
    },
    {
      "cell_type": "code",
      "metadata": {
        "colab": {
          "base_uri": "https://localhost:8080/"
        },
        "id": "IZGcRt_PskWO",
        "outputId": "bf23c916-9664-49a8-b0f2-f2d238643491"
      },
      "source": [
        "flattened_hashtags_df['hashtag'].unique().size # number of unique hashtags"
      ],
      "execution_count": null,
      "outputs": [
        {
          "output_type": "execute_result",
          "data": {
            "text/plain": [
              "477"
            ]
          },
          "metadata": {},
          "execution_count": 22
        }
      ]
    },
    {
      "cell_type": "markdown",
      "metadata": {
        "id": "zaxQMy4OxOUC"
      },
      "source": [
        "###**Like before lets look at the top hashtags by their frequency of appearance.**"
      ]
    },
    {
      "cell_type": "code",
      "metadata": {
        "colab": {
          "base_uri": "https://localhost:8080/",
          "height": 143
        },
        "id": "Pks0sFDqxKWg",
        "outputId": "ef2a2675-93bd-4461-cc7a-189cb049ba63"
      },
      "source": [
        "# count of appearances of each hashtag\n",
        "popular_hashtags = flattened_hashtags_df.groupby('hashtag').size()\\\n",
        "                                        .reset_index(name='counts')\\\n",
        "                                        .sort_values('counts', ascending=False)\\\n",
        "                                        .reset_index(drop=True)\n",
        "popular_hashtags.head(3)                                       "
      ],
      "execution_count": null,
      "outputs": [
        {
          "output_type": "execute_result",
          "data": {
            "text/html": [
              "<div>\n",
              "<style scoped>\n",
              "    .dataframe tbody tr th:only-of-type {\n",
              "        vertical-align: middle;\n",
              "    }\n",
              "\n",
              "    .dataframe tbody tr th {\n",
              "        vertical-align: top;\n",
              "    }\n",
              "\n",
              "    .dataframe thead th {\n",
              "        text-align: right;\n",
              "    }\n",
              "</style>\n",
              "<table border=\"1\" class=\"dataframe\">\n",
              "  <thead>\n",
              "    <tr style=\"text-align: right;\">\n",
              "      <th></th>\n",
              "      <th>hashtag</th>\n",
              "      <th>counts</th>\n",
              "    </tr>\n",
              "  </thead>\n",
              "  <tbody>\n",
              "    <tr>\n",
              "      <th>0</th>\n",
              "      <td>#tcot</td>\n",
              "      <td>227</td>\n",
              "    </tr>\n",
              "    <tr>\n",
              "      <th>1</th>\n",
              "      <td>#climate</td>\n",
              "      <td>202</td>\n",
              "    </tr>\n",
              "    <tr>\n",
              "      <th>2</th>\n",
              "      <td>#p2</td>\n",
              "      <td>112</td>\n",
              "    </tr>\n",
              "  </tbody>\n",
              "</table>\n",
              "</div>"
            ],
            "text/plain": [
              "    hashtag  counts\n",
              "0     #tcot     227\n",
              "1  #climate     202\n",
              "2       #p2     112"
            ]
          },
          "metadata": {},
          "execution_count": 23
        }
      ]
    },
    {
      "cell_type": "markdown",
      "metadata": {
        "id": "TMG3KmK5BmqV"
      },
      "source": [
        "##**From Text to Vector**\n",
        "Before we do this we will want to limit to hashtags that appear enough times to be correlated with other hashtags. We can’t correlate hashtags which only appear once, and we don’t want hashtags that appear a low number of times since this could lead to spurious correlations.\n"
      ]
    },
    {
      "cell_type": "code",
      "metadata": {
        "id": "7WE3F4SXz7W8"
      },
      "source": [
        "# take hashtags which appear at least this amount of times\n",
        "min_appearance = 10\n",
        "# find popular hashtags - make into python set for efficiency\n",
        "popular_hashtags_set = set(popular_hashtags[popular_hashtags.counts>=min_appearance]['hashtag'])"
      ],
      "execution_count": null,
      "outputs": []
    },
    {
      "cell_type": "markdown",
      "metadata": {
        "id": "LJtu8AEZEZbZ"
      },
      "source": [
        "###**Next, create a new column in hashtags_df which filters the hashtags to only the popular hashtags.**\n",
        "###**We will also drop the rows where no popular hashtags appear.**"
      ]
    },
    {
      "cell_type": "code",
      "metadata": {
        "id": "hgU-4X49EW9o"
      },
      "source": [
        "# make a new column with only the popular hashtags\n",
        "hashtags_list_df['popular_hashtags'] = hashtags_list_df.hashtags.apply(\n",
        "            lambda hashtag_list: [hashtag for hashtag in hashtag_list if hashtag in popular_hashtags_set])\n",
        "# drop rows without popular hashtag\n",
        "popular_hashtags_list_df = hashtags_list_df.loc[hashtags_list_df.popular_hashtags.apply(lambda hashtag_list: hashtag_list !=[])]\n"
      ],
      "execution_count": null,
      "outputs": []
    },
    {
      "cell_type": "code",
      "metadata": {
        "colab": {
          "base_uri": "https://localhost:8080/"
        },
        "id": "Hbwj-kjEEoiG",
        "outputId": "fc3209fc-1d3f-4141-8eff-70eaf4159e9f"
      },
      "source": [
        "popular_hashtags_list_df.shape"
      ],
      "execution_count": null,
      "outputs": [
        {
          "output_type": "execute_result",
          "data": {
            "text/plain": [
              "(786, 2)"
            ]
          },
          "metadata": {},
          "execution_count": 26
        }
      ]
    },
    {
      "cell_type": "code",
      "metadata": {
        "colab": {
          "base_uri": "https://localhost:8080/"
        },
        "id": "LQz2s48bRGfd",
        "outputId": "b8969155-dc3c-4dfe-f2bd-7a13d42ef49b"
      },
      "source": [
        "hashtags_list_df.shape"
      ],
      "execution_count": null,
      "outputs": [
        {
          "output_type": "execute_result",
          "data": {
            "text/plain": [
              "(1129, 2)"
            ]
          },
          "metadata": {},
          "execution_count": 27
        }
      ]
    },
    {
      "cell_type": "code",
      "metadata": {
        "colab": {
          "base_uri": "https://localhost:8080/",
          "height": 143
        },
        "id": "hOQpwCRQSZyU",
        "outputId": "55fba651-761b-410c-f1b9-4083ce43d012"
      },
      "source": [
        "popular_hashtags_list_df.head(3)"
      ],
      "execution_count": null,
      "outputs": [
        {
          "output_type": "execute_result",
          "data": {
            "text/html": [
              "<div>\n",
              "<style scoped>\n",
              "    .dataframe tbody tr th:only-of-type {\n",
              "        vertical-align: middle;\n",
              "    }\n",
              "\n",
              "    .dataframe tbody tr th {\n",
              "        vertical-align: top;\n",
              "    }\n",
              "\n",
              "    .dataframe thead th {\n",
              "        text-align: right;\n",
              "    }\n",
              "</style>\n",
              "<table border=\"1\" class=\"dataframe\">\n",
              "  <thead>\n",
              "    <tr style=\"text-align: right;\">\n",
              "      <th></th>\n",
              "      <th>hashtags</th>\n",
              "      <th>popular_hashtags</th>\n",
              "    </tr>\n",
              "  </thead>\n",
              "  <tbody>\n",
              "    <tr>\n",
              "      <th>12</th>\n",
              "      <td>[#Climate, #population]</td>\n",
              "      <td>[#Climate]</td>\n",
              "    </tr>\n",
              "    <tr>\n",
              "      <th>16</th>\n",
              "      <td>[#EarthDay]</td>\n",
              "      <td>[#EarthDay]</td>\n",
              "    </tr>\n",
              "    <tr>\n",
              "      <th>31</th>\n",
              "      <td>[#tcot]</td>\n",
              "      <td>[#tcot]</td>\n",
              "    </tr>\n",
              "  </tbody>\n",
              "</table>\n",
              "</div>"
            ],
            "text/plain": [
              "                   hashtags popular_hashtags\n",
              "12  [#Climate, #population]       [#Climate]\n",
              "16              [#EarthDay]      [#EarthDay]\n",
              "31                  [#tcot]          [#tcot]"
            ]
          },
          "metadata": {},
          "execution_count": 28
        }
      ]
    },
    {
      "cell_type": "markdown",
      "metadata": {
        "id": "obL2Af7LR7vD"
      },
      "source": [
        "### To find which of our hashtags are correlated with each other,  we will need to turn the text into numeric form. \n",
        "### For example if our available hashtags were the set [#photography #pets, #funny, #day], then the tweet ‘#funny #pets’ would be [0,1,1,0] in vector form.\n",
        "###Let's vectorise our the hashtags in each tweet like mentioned above, by creating a dataframe where the hashtags contained in each row are in vector form.\n"
      ]
    },
    {
      "cell_type": "code",
      "metadata": {
        "id": "n0UYeSd1R51k"
      },
      "source": [
        "# make new dataframe\n",
        "hashtag_vector_df = popular_hashtags_list_df.loc[:, ['popular_hashtags']]\n",
        "\n",
        "for hashtag in popular_hashtags_set:\n",
        "    # make columns to encode presence of hashtags\n",
        "    hashtag_vector_df['{}'.format(hashtag)] = hashtag_vector_df.popular_hashtags.apply(\n",
        "        lambda hashtag_list: int(hashtag in hashtag_list))"
      ],
      "execution_count": null,
      "outputs": []
    },
    {
      "cell_type": "code",
      "metadata": {
        "colab": {
          "base_uri": "https://localhost:8080/",
          "height": 163
        },
        "id": "3tsH6NODRKns",
        "outputId": "03810694-dfa5-4384-c3d8-2a154db5ac9d"
      },
      "source": [
        "hashtag_vector_df.head(3)"
      ],
      "execution_count": null,
      "outputs": [
        {
          "output_type": "execute_result",
          "data": {
            "text/html": [
              "<div>\n",
              "<style scoped>\n",
              "    .dataframe tbody tr th:only-of-type {\n",
              "        vertical-align: middle;\n",
              "    }\n",
              "\n",
              "    .dataframe tbody tr th {\n",
              "        vertical-align: top;\n",
              "    }\n",
              "\n",
              "    .dataframe thead th {\n",
              "        text-align: right;\n",
              "    }\n",
              "</style>\n",
              "<table border=\"1\" class=\"dataframe\">\n",
              "  <thead>\n",
              "    <tr style=\"text-align: right;\">\n",
              "      <th></th>\n",
              "      <th>popular_hashtags</th>\n",
              "      <th>#TCOT</th>\n",
              "      <th>#snowpocalypse</th>\n",
              "      <th>#EarthDay</th>\n",
              "      <th>#fb</th>\n",
              "      <th>#IPCC</th>\n",
              "      <th>#du1</th>\n",
              "      <th>#agw</th>\n",
              "      <th>#cochabamba</th>\n",
              "      <th>#FoxNews</th>\n",
              "      <th>#sgp</th>\n",
              "      <th>#News</th>\n",
              "      <th>#earthday</th>\n",
              "      <th>#SierraClub</th>\n",
              "      <th>#teaparty</th>\n",
              "      <th>#ocra</th>\n",
              "      <th>#climategate</th>\n",
              "      <th>#gop</th>\n",
              "      <th>#news</th>\n",
              "      <th>#climatechange</th>\n",
              "      <th>#Climate</th>\n",
              "      <th>#cleantech</th>\n",
              "      <th>#globalwarming</th>\n",
              "      <th>#environment</th>\n",
              "      <th>#climate</th>\n",
              "      <th>#energy</th>\n",
              "      <th>#global</th>\n",
              "      <th>#Green</th>\n",
              "      <th>#p2</th>\n",
              "      <th>#eco</th>\n",
              "      <th>#GlobalWarming</th>\n",
              "      <th>#tcot</th>\n",
              "      <th>#tlot</th>\n",
              "      <th>#UN</th>\n",
              "      <th>#SaveTerra</th>\n",
              "      <th>#green</th>\n",
              "    </tr>\n",
              "  </thead>\n",
              "  <tbody>\n",
              "    <tr>\n",
              "      <th>12</th>\n",
              "      <td>[#Climate]</td>\n",
              "      <td>0</td>\n",
              "      <td>0</td>\n",
              "      <td>0</td>\n",
              "      <td>0</td>\n",
              "      <td>0</td>\n",
              "      <td>0</td>\n",
              "      <td>0</td>\n",
              "      <td>0</td>\n",
              "      <td>0</td>\n",
              "      <td>0</td>\n",
              "      <td>0</td>\n",
              "      <td>0</td>\n",
              "      <td>0</td>\n",
              "      <td>0</td>\n",
              "      <td>0</td>\n",
              "      <td>0</td>\n",
              "      <td>0</td>\n",
              "      <td>0</td>\n",
              "      <td>0</td>\n",
              "      <td>1</td>\n",
              "      <td>0</td>\n",
              "      <td>0</td>\n",
              "      <td>0</td>\n",
              "      <td>0</td>\n",
              "      <td>0</td>\n",
              "      <td>0</td>\n",
              "      <td>0</td>\n",
              "      <td>0</td>\n",
              "      <td>0</td>\n",
              "      <td>0</td>\n",
              "      <td>0</td>\n",
              "      <td>0</td>\n",
              "      <td>0</td>\n",
              "      <td>0</td>\n",
              "      <td>0</td>\n",
              "    </tr>\n",
              "    <tr>\n",
              "      <th>16</th>\n",
              "      <td>[#EarthDay]</td>\n",
              "      <td>0</td>\n",
              "      <td>0</td>\n",
              "      <td>1</td>\n",
              "      <td>0</td>\n",
              "      <td>0</td>\n",
              "      <td>0</td>\n",
              "      <td>0</td>\n",
              "      <td>0</td>\n",
              "      <td>0</td>\n",
              "      <td>0</td>\n",
              "      <td>0</td>\n",
              "      <td>0</td>\n",
              "      <td>0</td>\n",
              "      <td>0</td>\n",
              "      <td>0</td>\n",
              "      <td>0</td>\n",
              "      <td>0</td>\n",
              "      <td>0</td>\n",
              "      <td>0</td>\n",
              "      <td>0</td>\n",
              "      <td>0</td>\n",
              "      <td>0</td>\n",
              "      <td>0</td>\n",
              "      <td>0</td>\n",
              "      <td>0</td>\n",
              "      <td>0</td>\n",
              "      <td>0</td>\n",
              "      <td>0</td>\n",
              "      <td>0</td>\n",
              "      <td>0</td>\n",
              "      <td>0</td>\n",
              "      <td>0</td>\n",
              "      <td>0</td>\n",
              "      <td>0</td>\n",
              "      <td>0</td>\n",
              "    </tr>\n",
              "    <tr>\n",
              "      <th>31</th>\n",
              "      <td>[#tcot]</td>\n",
              "      <td>0</td>\n",
              "      <td>0</td>\n",
              "      <td>0</td>\n",
              "      <td>0</td>\n",
              "      <td>0</td>\n",
              "      <td>0</td>\n",
              "      <td>0</td>\n",
              "      <td>0</td>\n",
              "      <td>0</td>\n",
              "      <td>0</td>\n",
              "      <td>0</td>\n",
              "      <td>0</td>\n",
              "      <td>0</td>\n",
              "      <td>0</td>\n",
              "      <td>0</td>\n",
              "      <td>0</td>\n",
              "      <td>0</td>\n",
              "      <td>0</td>\n",
              "      <td>0</td>\n",
              "      <td>0</td>\n",
              "      <td>0</td>\n",
              "      <td>0</td>\n",
              "      <td>0</td>\n",
              "      <td>0</td>\n",
              "      <td>0</td>\n",
              "      <td>0</td>\n",
              "      <td>0</td>\n",
              "      <td>0</td>\n",
              "      <td>0</td>\n",
              "      <td>0</td>\n",
              "      <td>1</td>\n",
              "      <td>0</td>\n",
              "      <td>0</td>\n",
              "      <td>0</td>\n",
              "      <td>0</td>\n",
              "    </tr>\n",
              "  </tbody>\n",
              "</table>\n",
              "</div>"
            ],
            "text/plain": [
              "   popular_hashtags  #TCOT  #snowpocalypse  ...  #UN  #SaveTerra  #green\n",
              "12       [#Climate]      0               0  ...    0           0       0\n",
              "16      [#EarthDay]      0               0  ...    0           0       0\n",
              "31          [#tcot]      0               0  ...    0           0       0\n",
              "\n",
              "[3 rows x 36 columns]"
            ]
          },
          "metadata": {},
          "execution_count": 30
        }
      ]
    },
    {
      "cell_type": "markdown",
      "metadata": {
        "id": "x14rgGiMUAD8"
      },
      "source": [
        "###**Now we will drop the popular_hashtags column from the dataframe. We don’t need it.**\n"
      ]
    },
    {
      "cell_type": "code",
      "metadata": {
        "id": "LjMY1UeeT8Kj"
      },
      "source": [
        "hashtag_matrix = hashtag_vector_df.drop('popular_hashtags', axis=1)"
      ],
      "execution_count": null,
      "outputs": []
    },
    {
      "cell_type": "markdown",
      "metadata": {
        "id": "H1xhQoGATtJJ"
      },
      "source": [
        "###**Then, let's find the correlation between each column of the dataframe and thus the correlation between the different hashtags appearing in the same tweets.**\n",
        "\n",
        "We will use the seaborn package that we imported earlier to plot the correlation matrix as a heatmap"
      ]
    },
    {
      "cell_type": "code",
      "metadata": {
        "colab": {
          "base_uri": "https://localhost:8080/",
          "height": 622
        },
        "id": "A7jO0j1wUCU0",
        "outputId": "989b323e-277a-4185-a2f0-2bf617ba0c87"
      },
      "source": [
        "# calculate the correlation matrix\n",
        "correlations = hashtag_matrix.corr()\n",
        "\n",
        "# plot the correlation matrix\n",
        "plt.figure(figsize=(10,10))\n",
        "sns.heatmap(correlations,\n",
        "    cmap='RdBu',\n",
        "    vmin=-1,\n",
        "    vmax=1,\n",
        "    square = True,\n",
        "    cbar_kws={'label':'correlation'})\n",
        "plt.show()"
      ],
      "execution_count": null,
      "outputs": [
        {
          "output_type": "display_data",
          "data": {
            "image/png": "[encoded data removed]",
            "text/plain": [
              "<Figure size 720x720 with 2 Axes>"
            ]
          },
          "metadata": {
            "needs_background": "light"
          }
        }
      ]
    },
    {
      "cell_type": "markdown",
      "metadata": {
        "id": "JSyQkTNFWcl2"
      },
      "source": [
        "From the plot above we can see that there are fairly strong correlations between: \n",
        ">#SaveTerra and #SierraClub\n",
        "\n",
        ">#GloablWarming and #FoxNews\n",
        "\n",
        "We can also see a fairly strong negative correlation between:\n",
        "\n",
        ">#tcot and #climate"
      ]
    },
    {
      "cell_type": "markdown",
      "metadata": {
        "id": "koFlcKoAWs64"
      },
      "source": [
        "##**2.5. What is the Topic Modelling?**\n",
        "We will be using latent dirichlet allocation (LDA) and  non-negative matric factorisation (NMF).\n",
        "\n",
        "The important information to know is that these techniques each take a matrix which is similar to the hashtag_vector_df dataframe that we created above. \n",
        "Every row represents a tweet and every column represents a word. The entry at each row-column position is the number of times that a given word appears in the tweet for the row, this is called the bag-of-words format. \n",
        "For the word-set [#photography, #pets, #funny, #day], the tweet ‘#funny #funny #photography #pets’ would be [1,1,2,0] in vector form.\n",
        "\n",
        "Using this matrix the topic modelling algorithms will form topics from the words. \n",
        "Each of the algorithms does this in a different way, but the basics are that the algorithms look at the co-occurrence of words in the tweets and if words often appearing in the same tweets together, then these words are likely to form a topic together. The algorithm will form topics which group commonly co-occurring words. \n",
        "A topic in this sense, is just list of words that often appear together and also scores associated with each of these words in the topic. \n",
        "The higher the score of a word in a topic, the higher that word’s importance in the topic. Each topic will have a score for every word found in tweets, in order to make sense of the topics we usually only look at the top words - the words with low scores are irrelevant.\n",
        "For example, from a topic model built on a collection on marine research articles might find the topic: \n",
        "\n",
        ">asteroidea, starfish, legs, regenerate, ecological, marine, asexually, …\n",
        "\n",
        "and the accompanying scores for each word in this topic could be:\n",
        "\n",
        ">900, 666, 523, 503, 392, 299, 127, …\n",
        "We can see that this seems to be a general topic about starfish, but the important part is that we have to decide what these topics mean by interpreting the top words. "
      ]
    },
    {
      "cell_type": "markdown",
      "metadata": {
        "id": "9uK-MuK5sggT"
      },
      "source": [
        "##**2.6. Cleaning Unstructured Text Data**\n",
        "\n",
        "First we will start with imports for this specific cleaning task.\n",
        "\n",
        "We will need the stopwords from NLTK and spacy’s en model for text pre-processing. Later, we will be using the spacy model for lemmatization.\n",
        "\n",
        "Lemmatization is nothing but converting a word to its root word. For example: the lemma of the word ‘machines’ is ‘machine’. Likewise, ‘walking’ –> ‘walk’, ‘mice’ –> ‘mouse’ and so on."
      ]
    },
    {
      "cell_type": "code",
      "metadata": {
        "id": "LR64Wk8DsksW"
      },
      "source": [
        "import nltk\n",
        "from nltk.tokenize import RegexpTokenizer\n",
        "from nltk.corpus import stopwords"
      ],
      "execution_count": null,
      "outputs": []
    },
    {
      "cell_type": "markdown",
      "metadata": {
        "id": "e_rIcyrPsndt"
      },
      "source": [
        "We will need to use nltk.download('stopwords') command to download the stopwords if you have not used nltk before.\n",
        "##**In the cell below some functions to remove web-links from the tweets.**\n"
      ]
    },
    {
      "cell_type": "code",
      "metadata": {
        "id": "l1I-tWrJTJ7h"
      },
      "source": [
        "def remove_links(tweet):\n",
        "    '''Takes a string and removes web links from it'''\n",
        "    tweet = re.sub(r'http\\S+', '', tweet) # remove http links\n",
        "    tweet = re.sub(r'bit.ly/\\S+', '', tweet) # rempve bitly links\n",
        "    tweet = tweet.strip('[link]') # remove [links]\n",
        "    return tweet\n",
        "\n",
        "def remove_users(tweet):\n",
        "    '''Takes a string and removes retweet and @user information'''\n",
        "    tweet = re.sub('(RT\\s@[A-Za-z]+[A-Za-z0-9-_]+)', '', tweet) # remove retweet\n",
        "    tweet = re.sub('(@[A-Za-z]+[A-Za-z0-9-_]+)', '', tweet) # remove tweeted at\n",
        "    return tweet"
      ],
      "execution_count": null,
      "outputs": []
    },
    {
      "cell_type": "code",
      "metadata": {
        "colab": {
          "base_uri": "https://localhost:8080/"
        },
        "id": "LFRhjksVvyvI",
        "outputId": "d418ada7-70b7-4802-cb58-1acba585acb7"
      },
      "source": [
        "import nltk; nltk.download('stopwords')\n"
      ],
      "execution_count": null,
      "outputs": [
        {
          "output_type": "stream",
          "name": "stdout",
          "text": [
            "[nltk_data] Downloading package stopwords to /root/nltk_data...\n",
            "[nltk_data]   Package stopwords is already up-to-date!\n"
          ]
        },
        {
          "output_type": "execute_result",
          "data": {
            "text/plain": [
              "True"
            ]
          },
          "metadata": {},
          "execution_count": 35
        }
      ]
    },
    {
      "cell_type": "code",
      "metadata": {
        "id": "V8XwlcaKvKMQ"
      },
      "source": [
        "my_stopwords = nltk.corpus.stopwords.words('english')\n",
        "word_rooter = nltk.stem.snowball.PorterStemmer(ignore_stopwords=False).stem\n",
        "my_punctuation = '!\"$%&\\'()*+,-./:;<=>?[\\\\]^_`{|}~•@'\n",
        "\n",
        "# cleaning master function\n",
        "def clean_tweet(tweet, bigrams=False):\n",
        "    tweet = remove_users(tweet)\n",
        "    tweet = remove_links(tweet)\n",
        "    tweet = tweet.lower() # lower case\n",
        "    tweet = re.sub('['+my_punctuation + ']+', ' ', tweet) # strip punctuation\n",
        "    tweet = re.sub('\\s+', ' ', tweet) #remove double spacing\n",
        "    tweet = re.sub('([0-9]+)', '', tweet) # remove numbers\n",
        "    tweet_token_list = [word for word in tweet.split(' ')\n",
        "                            if word not in my_stopwords] # remove stopwords\n",
        "\n",
        "    tweet_token_list = [word_rooter(word) if '#' not in word else word\n",
        "                        for word in tweet_token_list] # apply word rooter\n",
        "    if bigrams:\n",
        "        tweet_token_list = tweet_token_list+[tweet_token_list[i]+'_'+tweet_token_list[i+1]\n",
        "                                            for i in range(len(tweet_token_list)-1)]\n",
        "    tweet = ' '.join(tweet_token_list)\n",
        "    return tweet"
      ],
      "execution_count": null,
      "outputs": []
    },
    {
      "cell_type": "markdown",
      "metadata": {
        "id": "Ee6ie0PfvVZH"
      },
      "source": [
        "##**Use the cleaning function above to make a new column of cleaned tweets. Set bigrams = False for the moment to keep things simple. This is something you could come back to later. Print this new column see if you can understand the gist of what each tweet is about.**\n"
      ]
    },
    {
      "cell_type": "code",
      "metadata": {
        "id": "qU5tZiv_vac-"
      },
      "source": [
        "df['clean_tweet'] = df.tweet.apply(clean_tweet)"
      ],
      "execution_count": null,
      "outputs": []
    },
    {
      "cell_type": "code",
      "metadata": {
        "colab": {
          "base_uri": "https://localhost:8080/",
          "height": 241
        },
        "id": "NrcQiPrvvbOq",
        "outputId": "647f65db-d049-471d-ac3e-70d864841cea"
      },
      "source": [
        "df.tail()"
      ],
      "execution_count": null,
      "outputs": [
        {
          "output_type": "execute_result",
          "data": {
            "text/html": [
              "<div>\n",
              "<style scoped>\n",
              "    .dataframe tbody tr th:only-of-type {\n",
              "        vertical-align: middle;\n",
              "    }\n",
              "\n",
              "    .dataframe tbody tr th {\n",
              "        vertical-align: top;\n",
              "    }\n",
              "\n",
              "    .dataframe thead th {\n",
              "        text-align: right;\n",
              "    }\n",
              "</style>\n",
              "<table border=\"1\" class=\"dataframe\">\n",
              "  <thead>\n",
              "    <tr style=\"text-align: right;\">\n",
              "      <th></th>\n",
              "      <th>tweet</th>\n",
              "      <th>is_retweet</th>\n",
              "      <th>retweeted</th>\n",
              "      <th>mentioned</th>\n",
              "      <th>hashtags</th>\n",
              "      <th>clean_tweet</th>\n",
              "    </tr>\n",
              "  </thead>\n",
              "  <tbody>\n",
              "    <tr>\n",
              "      <th>6085</th>\n",
              "      <td>@bloodless_coup \"The phrase 'global warming' s...</td>\n",
              "      <td>False</td>\n",
              "      <td>[]</td>\n",
              "      <td>[@bloodless_coup]</td>\n",
              "      <td>[#p2, #tcot]</td>\n",
              "      <td>phrase global warm abandon favor climat chang...</td>\n",
              "    </tr>\n",
              "    <tr>\n",
              "      <th>6086</th>\n",
              "      <td>Virginia to Investigate Global Warming Scienti...</td>\n",
              "      <td>False</td>\n",
              "      <td>[]</td>\n",
              "      <td>[]</td>\n",
              "      <td>[]</td>\n",
              "      <td>virginia investig global warm scientist mann</td>\n",
              "    </tr>\n",
              "    <tr>\n",
              "      <th>6087</th>\n",
              "      <td>Global warming you tube parody you will enjoy ...</td>\n",
              "      <td>False</td>\n",
              "      <td>[]</td>\n",
              "      <td>[]</td>\n",
              "      <td>[#IPCC, #ocra]</td>\n",
              "      <td>global warm tube parodi enjoy #ipcc #ocra</td>\n",
              "    </tr>\n",
              "    <tr>\n",
              "      <th>6088</th>\n",
              "      <td>One-Eyed Golfer: Don't dare tell me about glob...</td>\n",
              "      <td>False</td>\n",
              "      <td>[]</td>\n",
              "      <td>[]</td>\n",
              "      <td>[]</td>\n",
              "      <td>one eye golfer dare tell global warm twenti fi...</td>\n",
              "    </tr>\n",
              "    <tr>\n",
              "      <th>6089</th>\n",
              "      <td>man made global warming a hair brained theory ...</td>\n",
              "      <td>False</td>\n",
              "      <td>[]</td>\n",
              "      <td>[]</td>\n",
              "      <td>[#tcot, #p2, #climategate]</td>\n",
              "      <td>man made global warm hair brain theori  scient...</td>\n",
              "    </tr>\n",
              "  </tbody>\n",
              "</table>\n",
              "</div>"
            ],
            "text/plain": [
              "                                                  tweet  ...                                        clean_tweet\n",
              "6085  @bloodless_coup \"The phrase 'global warming' s...  ...   phrase global warm abandon favor climat chang...\n",
              "6086  Virginia to Investigate Global Warming Scienti...  ...      virginia investig global warm scientist mann \n",
              "6087  Global warming you tube parody you will enjoy ...  ...         global warm tube parodi enjoy #ipcc #ocra \n",
              "6088  One-Eyed Golfer: Don't dare tell me about glob...  ...  one eye golfer dare tell global warm twenti fi...\n",
              "6089  man made global warming a hair brained theory ...  ...  man made global warm hair brain theori  scient...\n",
              "\n",
              "[5 rows x 6 columns]"
            ]
          },
          "metadata": {},
          "execution_count": 38
        }
      ]
    },
    {
      "cell_type": "markdown",
      "metadata": {
        "id": "vmzQYr4jzWQy"
      },
      "source": [
        "##**7. Applying Topic Modelling**\n",
        "**To turn the text into a matrix, where each row in the matrix encodes which words appeared in each individual tweet:**\n",
        ">#We will also filter the words max_df=0.9 means we discard any words that appear in >90% of tweets. \n",
        ">#We will also filter words using min_df=25, so words that appear in less than 25 tweets will be discarded. \n",
        ">#We discard high appearing words since they are too common to be meaningful in topics. \n",
        ">#We discard low appearing words because we won’t have a strong enough signal and they will just introduce noise to our model."
      ]
    },
    {
      "cell_type": "code",
      "metadata": {
        "id": "s5MFM5nav5Iv"
      },
      "source": [
        "from sklearn.feature_extraction.text import CountVectorizer\n",
        "\n",
        "# the vectorizer object will be used to transform text to vector form\n",
        "vectorizer = CountVectorizer(max_df=0.9, min_df=25, token_pattern='\\w+|\\$[\\d\\.]+|\\S+')\n",
        "\n",
        "# apply transformation\n",
        "tf = vectorizer.fit_transform(df['clean_tweet']).toarray() # #term frequency’ - the frequency of each word/token in each tweet). \n",
        "\n",
        "# tf_feature_names tells us what word each column in the matric represents\n",
        "tf_feature_names = vectorizer.get_feature_names()"
      ],
      "execution_count": null,
      "outputs": []
    },
    {
      "cell_type": "markdown",
      "metadata": {
        "id": "HJnYGiC808O5"
      },
      "source": [
        "##**Note that the tf matrix is exactly like the hashtag_vector_df dataframe. Each row is a tweet and each column is a word. The numbers in each position tell us how many times this word appears in this tweet.**\n"
      ]
    },
    {
      "cell_type": "code",
      "metadata": {
        "colab": {
          "base_uri": "https://localhost:8080/"
        },
        "id": "dvcGi3QqzepQ",
        "outputId": "efb83c8a-7d1f-4985-d44e-751888acbb6e"
      },
      "source": [
        "tf #term frequency’ The shape of tf tells us how many tweets we have \n",
        "   ##and how many words we have that made it through our filtering process."
      ],
      "execution_count": null,
      "outputs": [
        {
          "output_type": "execute_result",
          "data": {
            "text/plain": [
              "array([[0, 0, 0, ..., 0, 0, 0],\n",
              "       [0, 0, 0, ..., 0, 0, 0],\n",
              "       [0, 0, 0, ..., 0, 0, 0],\n",
              "       ...,\n",
              "       [0, 0, 0, ..., 0, 0, 0],\n",
              "       [0, 0, 0, ..., 0, 0, 0],\n",
              "       [0, 0, 1, ..., 0, 0, 0]])"
            ]
          },
          "metadata": {},
          "execution_count": 40
        }
      ]
    },
    {
      "cell_type": "markdown",
      "metadata": {
        "id": "5Yr8w2Jp1Hae"
      },
      "source": [
        "##**Next we actually create the model object. Lets start by arbitrarily choosing 10 topics. We also define the random state so that this model is reproducible.**"
      ]
    },
    {
      "cell_type": "markdown",
      "metadata": {
        "id": "Mo8f5Us_EcBo"
      },
      "source": [
        "#**1. Using LDA**"
      ]
    },
    {
      "cell_type": "code",
      "metadata": {
        "id": "MApFFEZ8zfB2"
      },
      "source": [
        "from sklearn.decomposition import LatentDirichletAllocation\n",
        "\n",
        "number_of_topics = 10\n",
        "\n",
        "model = LatentDirichletAllocation(n_components=number_of_topics, random_state=0)"
      ],
      "execution_count": null,
      "outputs": []
    },
    {
      "cell_type": "code",
      "metadata": {
        "colab": {
          "base_uri": "https://localhost:8080/"
        },
        "id": "_XVFgzwo13XJ",
        "outputId": "9c2c39ae-3f35-4185-95ab-ae5c5459273e"
      },
      "source": [
        "model.fit(tf)"
      ],
      "execution_count": null,
      "outputs": [
        {
          "output_type": "execute_result",
          "data": {
            "text/plain": [
              "LatentDirichletAllocation(batch_size=128, doc_topic_prior=None,\n",
              "                          evaluate_every=-1, learning_decay=0.7,\n",
              "                          learning_method='batch', learning_offset=10.0,\n",
              "                          max_doc_update_iter=100, max_iter=10,\n",
              "                          mean_change_tol=0.001, n_components=10, n_jobs=None,\n",
              "                          perp_tol=0.1, random_state=0, topic_word_prior=None,\n",
              "                          total_samples=1000000.0, verbose=0)"
            ]
          },
          "metadata": {},
          "execution_count": 42
        }
      ]
    },
    {
      "cell_type": "markdown",
      "metadata": {
        "id": "-I0IsF4P2r-w"
      },
      "source": [
        "Next we will want to inspect our topics that we generated and try to extract meaningful information from them.\n",
        "\n",
        "Below I have written a function which takes in our model object model, the order of the words in our matrix tf_feature_names and the number of words we would like to show. Use this function, which returns a dataframe, to show you the topics we created. Remember that each topic is a list of words/tokens and weights"
      ]
    },
    {
      "cell_type": "code",
      "metadata": {
        "id": "fi2eXh541303"
      },
      "source": [
        "def display_topics(model, feature_names, no_top_words):\n",
        "    topic_dict = {}\n",
        "    for topic_idx, topic in enumerate(model.components_):\n",
        "        topic_dict[\"Topic %d words\" % (topic_idx)]= ['{}'.format(feature_names[i])\n",
        "                        for i in topic.argsort()[:-no_top_words - 1:-1]]\n",
        "        topic_dict[\"Topic %d weights\" % (topic_idx)]= ['{:.1f}'.format(topic[i])\n",
        "                        for i in topic.argsort()[:-no_top_words - 1:-1]]\n",
        "    return pd.DataFrame(topic_dict)\n",
        "    "
      ],
      "execution_count": null,
      "outputs": []
    },
    {
      "cell_type": "code",
      "metadata": {
        "colab": {
          "base_uri": "https://localhost:8080/",
          "height": 417
        },
        "id": "5g2zoiCI2v7Q",
        "outputId": "db2132df-9e11-48ad-efb2-5c03c357da64"
      },
      "source": [
        "no_top_words = 10\n",
        "display_topics(model, tf_feature_names, no_top_words)"
      ],
      "execution_count": null,
      "outputs": [
        {
          "output_type": "execute_result",
          "data": {
            "text/html": [
              "<div>\n",
              "<style scoped>\n",
              "    .dataframe tbody tr th:only-of-type {\n",
              "        vertical-align: middle;\n",
              "    }\n",
              "\n",
              "    .dataframe tbody tr th {\n",
              "        vertical-align: top;\n",
              "    }\n",
              "\n",
              "    .dataframe thead th {\n",
              "        text-align: right;\n",
              "    }\n",
              "</style>\n",
              "<table border=\"1\" class=\"dataframe\">\n",
              "  <thead>\n",
              "    <tr style=\"text-align: right;\">\n",
              "      <th></th>\n",
              "      <th>Topic 0 words</th>\n",
              "      <th>Topic 0 weights</th>\n",
              "      <th>Topic 1 words</th>\n",
              "      <th>Topic 1 weights</th>\n",
              "      <th>Topic 2 words</th>\n",
              "      <th>Topic 2 weights</th>\n",
              "      <th>Topic 3 words</th>\n",
              "      <th>Topic 3 weights</th>\n",
              "      <th>Topic 4 words</th>\n",
              "      <th>Topic 4 weights</th>\n",
              "      <th>Topic 5 words</th>\n",
              "      <th>Topic 5 weights</th>\n",
              "      <th>Topic 6 words</th>\n",
              "      <th>Topic 6 weights</th>\n",
              "      <th>Topic 7 words</th>\n",
              "      <th>Topic 7 weights</th>\n",
              "      <th>Topic 8 words</th>\n",
              "      <th>Topic 8 weights</th>\n",
              "      <th>Topic 9 words</th>\n",
              "      <th>Topic 9 weights</th>\n",
              "    </tr>\n",
              "  </thead>\n",
              "  <tbody>\n",
              "    <tr>\n",
              "      <th>0</th>\n",
              "      <td>climat</td>\n",
              "      <td>1220.2</td>\n",
              "      <td>global</td>\n",
              "      <td>666.5</td>\n",
              "      <td>global</td>\n",
              "      <td>1147.2</td>\n",
              "      <td>global</td>\n",
              "      <td>473.1</td>\n",
              "      <td>climat</td>\n",
              "      <td>422.0</td>\n",
              "      <td>global</td>\n",
              "      <td>783.0</td>\n",
              "      <td>chang</td>\n",
              "      <td>666.1</td>\n",
              "      <td>warm</td>\n",
              "      <td>167.9</td>\n",
              "      <td>climat</td>\n",
              "      <td>568.3</td>\n",
              "      <td>climat</td>\n",
              "      <td>529.9</td>\n",
              "    </tr>\n",
              "    <tr>\n",
              "      <th>1</th>\n",
              "      <td>chang</td>\n",
              "      <td>1184.5</td>\n",
              "      <td>warm</td>\n",
              "      <td>658.1</td>\n",
              "      <td>warm</td>\n",
              "      <td>1102.1</td>\n",
              "      <td>warm</td>\n",
              "      <td>450.7</td>\n",
              "      <td>chang</td>\n",
              "      <td>401.8</td>\n",
              "      <td>warm</td>\n",
              "      <td>764.7</td>\n",
              "      <td>climat</td>\n",
              "      <td>661.6</td>\n",
              "      <td>#climate</td>\n",
              "      <td>139.2</td>\n",
              "      <td>chang</td>\n",
              "      <td>550.5</td>\n",
              "      <td>chang</td>\n",
              "      <td>520.6</td>\n",
              "    </tr>\n",
              "    <tr>\n",
              "      <th>2</th>\n",
              "      <td>via</td>\n",
              "      <td>257.9</td>\n",
              "      <td>snow</td>\n",
              "      <td>160.5</td>\n",
              "      <td>scientist</td>\n",
              "      <td>150.2</td>\n",
              "      <td>believ</td>\n",
              "      <td>101.3</td>\n",
              "      <td>legisl</td>\n",
              "      <td>123.2</td>\n",
              "      <td>gore</td>\n",
              "      <td>137.1</td>\n",
              "      <td>energi</td>\n",
              "      <td>178.8</td>\n",
              "      <td>volcano</td>\n",
              "      <td>128.9</td>\n",
              "      <td>new</td>\n",
              "      <td>321.1</td>\n",
              "      <td>peopl</td>\n",
              "      <td>153.4</td>\n",
              "    </tr>\n",
              "    <tr>\n",
              "      <th>3</th>\n",
              "      <td>scienc</td>\n",
              "      <td>112.9</td>\n",
              "      <td>#tcot</td>\n",
              "      <td>121.6</td>\n",
              "      <td>say</td>\n",
              "      <td>87.1</td>\n",
              "      <td>california</td>\n",
              "      <td>87.1</td>\n",
              "      <td>us</td>\n",
              "      <td>105.1</td>\n",
              "      <td>snow</td>\n",
              "      <td>123.7</td>\n",
              "      <td>u</td>\n",
              "      <td>109.8</td>\n",
              "      <td>global</td>\n",
              "      <td>128.6</td>\n",
              "      <td>bill</td>\n",
              "      <td>116.9</td>\n",
              "      <td>world</td>\n",
              "      <td>151.3</td>\n",
              "    </tr>\n",
              "    <tr>\n",
              "      <th>4</th>\n",
              "      <td>news</td>\n",
              "      <td>79.5</td>\n",
              "      <td>like</td>\n",
              "      <td>99.0</td>\n",
              "      <td>scienc</td>\n",
              "      <td>71.7</td>\n",
              "      <td>blame</td>\n",
              "      <td>82.1</td>\n",
              "      <td>via</td>\n",
              "      <td>60.5</td>\n",
              "      <td>al</td>\n",
              "      <td>122.1</td>\n",
              "      <td>via</td>\n",
              "      <td>96.5</td>\n",
              "      <td>chang</td>\n",
              "      <td>122.0</td>\n",
              "      <td>senat</td>\n",
              "      <td>106.1</td>\n",
              "      <td>confer</td>\n",
              "      <td>110.1</td>\n",
              "    </tr>\n",
              "    <tr>\n",
              "      <th>5</th>\n",
              "      <td>day</td>\n",
              "      <td>77.8</td>\n",
              "      <td>blizzard</td>\n",
              "      <td>90.9</td>\n",
              "      <td>debat</td>\n",
              "      <td>66.6</td>\n",
              "      <td>law</td>\n",
              "      <td>78.6</td>\n",
              "      <td>say</td>\n",
              "      <td>55.9</td>\n",
              "      <td>great</td>\n",
              "      <td>94.1</td>\n",
              "      <td>nation</td>\n",
              "      <td>89.0</td>\n",
              "      <td>help</td>\n",
              "      <td>114.1</td>\n",
              "      <td>agenc</td>\n",
              "      <td>95.1</td>\n",
              "      <td>bill</td>\n",
              "      <td>106.4</td>\n",
              "    </tr>\n",
              "    <tr>\n",
              "      <th>6</th>\n",
              "      <td>earth</td>\n",
              "      <td>68.2</td>\n",
              "      <td>dc</td>\n",
              "      <td>86.5</td>\n",
              "      <td>man</td>\n",
              "      <td>61.1</td>\n",
              "      <td>report</td>\n",
              "      <td>77.8</td>\n",
              "      <td>video</td>\n",
              "      <td>55.9</td>\n",
              "      <td>cold</td>\n",
              "      <td>77.1</td>\n",
              "      <td>make</td>\n",
              "      <td>74.5</td>\n",
              "      <td>take</td>\n",
              "      <td>96.8</td>\n",
              "      <td>immigr</td>\n",
              "      <td>77.7</td>\n",
              "      <td>talk</td>\n",
              "      <td>94.8</td>\n",
              "    </tr>\n",
              "    <tr>\n",
              "      <th>7</th>\n",
              "      <td>trial</td>\n",
              "      <td>68.1</td>\n",
              "      <td>think</td>\n",
              "      <td>83.3</td>\n",
              "      <td>made</td>\n",
              "      <td>54.0</td>\n",
              "      <td>save</td>\n",
              "      <td>61.8</td>\n",
              "      <td>place</td>\n",
              "      <td>54.1</td>\n",
              "      <td>call</td>\n",
              "      <td>76.5</td>\n",
              "      <td>impact</td>\n",
              "      <td>67.5</td>\n",
              "      <td>climat</td>\n",
              "      <td>76.7</td>\n",
              "      <td>obama</td>\n",
              "      <td>75.6</td>\n",
              "      <td>graham</td>\n",
              "      <td>92.1</td>\n",
              "    </tr>\n",
              "    <tr>\n",
              "      <th>8</th>\n",
              "      <td>clinic</td>\n",
              "      <td>68.1</td>\n",
              "      <td>due</td>\n",
              "      <td>80.1</td>\n",
              "      <td>show</td>\n",
              "      <td>51.9</td>\n",
              "      <td>money</td>\n",
              "      <td>56.1</td>\n",
              "      <td>good</td>\n",
              "      <td>52.6</td>\n",
              "      <td>#tcot</td>\n",
              "      <td>75.3</td>\n",
              "      <td>report</td>\n",
              "      <td>63.4</td>\n",
              "      <td>iceland</td>\n",
              "      <td>67.1</td>\n",
              "      <td>feder</td>\n",
              "      <td>67.1</td>\n",
              "      <td>un</td>\n",
              "      <td>77.6</td>\n",
              "    </tr>\n",
              "    <tr>\n",
              "      <th>9</th>\n",
              "      <td>carbon</td>\n",
              "      <td>64.5</td>\n",
              "      <td>make</td>\n",
              "      <td>70.4</td>\n",
              "      <td>water</td>\n",
              "      <td>50.6</td>\n",
              "      <td>live</td>\n",
              "      <td>49.3</td>\n",
              "      <td>human</td>\n",
              "      <td>48.2</td>\n",
              "      <td>one</td>\n",
              "      <td>72.1</td>\n",
              "      <td>issu</td>\n",
              "      <td>58.8</td>\n",
              "      <td>could</td>\n",
              "      <td>64.5</td>\n",
              "      <td>via</td>\n",
              "      <td>58.6</td>\n",
              "      <td>put</td>\n",
              "      <td>68.8</td>\n",
              "    </tr>\n",
              "  </tbody>\n",
              "</table>\n",
              "</div>"
            ],
            "text/plain": [
              "  Topic 0 words Topic 0 weights  ... Topic 9 words Topic 9 weights\n",
              "0        climat          1220.2  ...        climat           529.9\n",
              "1         chang          1184.5  ...         chang           520.6\n",
              "2           via           257.9  ...         peopl           153.4\n",
              "3        scienc           112.9  ...         world           151.3\n",
              "4          news            79.5  ...        confer           110.1\n",
              "5           day            77.8  ...          bill           106.4\n",
              "6         earth            68.2  ...          talk            94.8\n",
              "7         trial            68.1  ...        graham            92.1\n",
              "8        clinic            68.1  ...            un            77.6\n",
              "9        carbon            64.5  ...           put            68.8\n",
              "\n",
              "[10 rows x 20 columns]"
            ]
          },
          "metadata": {},
          "execution_count": 44
        }
      ]
    },
    {
      "cell_type": "markdown",
      "metadata": {
        "id": "4JKoFbCiEiUP"
      },
      "source": [
        "#**2. Using NMF**"
      ]
    },
    {
      "cell_type": "code",
      "metadata": {
        "id": "5NOJMgaB2yQW"
      },
      "source": [
        "from sklearn.decomposition import NMF\n",
        "from sklearn import metrics"
      ],
      "execution_count": null,
      "outputs": []
    },
    {
      "cell_type": "code",
      "metadata": {
        "colab": {
          "base_uri": "https://localhost:8080/"
        },
        "id": "5BKuGyK_3Tjr",
        "outputId": "9e7a8106-14ed-4f8c-daab-869192767646"
      },
      "source": [
        "model_NMF = NMF(n_components=10, random_state=0, alpha=.1, l1_ratio=.5) \n",
        "model_NMF.fit(tf)"
      ],
      "execution_count": null,
      "outputs": [
        {
          "output_type": "execute_result",
          "data": {
            "text/plain": [
              "NMF(alpha=0.1, beta_loss='frobenius', init=None, l1_ratio=0.5, max_iter=200,\n",
              "    n_components=10, random_state=0, shuffle=False, solver='cd', tol=0.0001,\n",
              "    verbose=0)"
            ]
          },
          "metadata": {},
          "execution_count": 46
        }
      ]
    },
    {
      "cell_type": "code",
      "metadata": {
        "colab": {
          "base_uri": "https://localhost:8080/",
          "height": 417
        },
        "id": "0S26Mj113uig",
        "outputId": "1ccf8afc-71fa-4327-f0a1-fa3fc1835d89"
      },
      "source": [
        "display_topics(model_NMF, tf_feature_names, no_top_words)"
      ],
      "execution_count": null,
      "outputs": [
        {
          "output_type": "execute_result",
          "data": {
            "text/html": [
              "<div>\n",
              "<style scoped>\n",
              "    .dataframe tbody tr th:only-of-type {\n",
              "        vertical-align: middle;\n",
              "    }\n",
              "\n",
              "    .dataframe tbody tr th {\n",
              "        vertical-align: top;\n",
              "    }\n",
              "\n",
              "    .dataframe thead th {\n",
              "        text-align: right;\n",
              "    }\n",
              "</style>\n",
              "<table border=\"1\" class=\"dataframe\">\n",
              "  <thead>\n",
              "    <tr style=\"text-align: right;\">\n",
              "      <th></th>\n",
              "      <th>Topic 0 words</th>\n",
              "      <th>Topic 0 weights</th>\n",
              "      <th>Topic 1 words</th>\n",
              "      <th>Topic 1 weights</th>\n",
              "      <th>Topic 2 words</th>\n",
              "      <th>Topic 2 weights</th>\n",
              "      <th>Topic 3 words</th>\n",
              "      <th>Topic 3 weights</th>\n",
              "      <th>Topic 4 words</th>\n",
              "      <th>Topic 4 weights</th>\n",
              "      <th>Topic 5 words</th>\n",
              "      <th>Topic 5 weights</th>\n",
              "      <th>Topic 6 words</th>\n",
              "      <th>Topic 6 weights</th>\n",
              "      <th>Topic 7 words</th>\n",
              "      <th>Topic 7 weights</th>\n",
              "      <th>Topic 8 words</th>\n",
              "      <th>Topic 8 weights</th>\n",
              "      <th>Topic 9 words</th>\n",
              "      <th>Topic 9 weights</th>\n",
              "    </tr>\n",
              "  </thead>\n",
              "  <tbody>\n",
              "    <tr>\n",
              "      <th>0</th>\n",
              "      <td>climat</td>\n",
              "      <td>10.8</td>\n",
              "      <td>global</td>\n",
              "      <td>9.3</td>\n",
              "      <td>via</td>\n",
              "      <td>7.7</td>\n",
              "      <td>snow</td>\n",
              "      <td>5.4</td>\n",
              "      <td>bill</td>\n",
              "      <td>5.2</td>\n",
              "      <td>new</td>\n",
              "      <td>6.0</td>\n",
              "      <td>#climate</td>\n",
              "      <td>4.9</td>\n",
              "      <td>peopl</td>\n",
              "      <td>3.8</td>\n",
              "      <td>say</td>\n",
              "      <td>4.4</td>\n",
              "      <td>#tcot</td>\n",
              "      <td>5.6</td>\n",
              "    </tr>\n",
              "    <tr>\n",
              "      <th>1</th>\n",
              "      <td>chang</td>\n",
              "      <td>9.8</td>\n",
              "      <td>warm</td>\n",
              "      <td>9.1</td>\n",
              "      <td>news</td>\n",
              "      <td>1.5</td>\n",
              "      <td>dc</td>\n",
              "      <td>1.9</td>\n",
              "      <td>senat</td>\n",
              "      <td>2.5</td>\n",
              "      <td>agenc</td>\n",
              "      <td>1.9</td>\n",
              "      <td>chang</td>\n",
              "      <td>4.6</td>\n",
              "      <td>world</td>\n",
              "      <td>3.4</td>\n",
              "      <td>report</td>\n",
              "      <td>3.3</td>\n",
              "      <td>#p</td>\n",
              "      <td>1.7</td>\n",
              "    </tr>\n",
              "    <tr>\n",
              "      <th>2</th>\n",
              "      <td>energi</td>\n",
              "      <td>0.3</td>\n",
              "      <td>make</td>\n",
              "      <td>0.3</td>\n",
              "      <td>humanitarian</td>\n",
              "      <td>0.6</td>\n",
              "      <td>gore</td>\n",
              "      <td>1.4</td>\n",
              "      <td>graham</td>\n",
              "      <td>1.6</td>\n",
              "      <td>obama</td>\n",
              "      <td>1.2</td>\n",
              "      <td>#global</td>\n",
              "      <td>1.0</td>\n",
              "      <td>earth</td>\n",
              "      <td>2.3</td>\n",
              "      <td>caus</td>\n",
              "      <td>2.4</td>\n",
              "      <td>#teaparty</td>\n",
              "      <td>1.0</td>\n",
              "    </tr>\n",
              "    <tr>\n",
              "      <th>3</th>\n",
              "      <td>scienc</td>\n",
              "      <td>0.3</td>\n",
              "      <td>could</td>\n",
              "      <td>0.2</td>\n",
              "      <td>chang</td>\n",
              "      <td>0.4</td>\n",
              "      <td>al</td>\n",
              "      <td>1.3</td>\n",
              "      <td>put</td>\n",
              "      <td>1.1</td>\n",
              "      <td>feder</td>\n",
              "      <td>1.2</td>\n",
              "      <td>#eco</td>\n",
              "      <td>0.8</td>\n",
              "      <td>confer</td>\n",
              "      <td>2.2</td>\n",
              "      <td>scientist</td>\n",
              "      <td>1.8</td>\n",
              "      <td>#gop</td>\n",
              "      <td>0.6</td>\n",
              "    </tr>\n",
              "    <tr>\n",
              "      <th>4</th>\n",
              "      <td>fight</td>\n",
              "      <td>0.3</td>\n",
              "      <td>scienc</td>\n",
              "      <td>0.2</td>\n",
              "      <td>india</td>\n",
              "      <td>0.3</td>\n",
              "      <td>mean</td>\n",
              "      <td>1.2</td>\n",
              "      <td>limbo</td>\n",
              "      <td>0.8</td>\n",
              "      <td>form</td>\n",
              "      <td>1.0</td>\n",
              "      <td>warm</td>\n",
              "      <td>0.7</td>\n",
              "      <td>right</td>\n",
              "      <td>1.3</td>\n",
              "      <td>us</td>\n",
              "      <td>1.0</td>\n",
              "      <td>scam</td>\n",
              "      <td>0.6</td>\n",
              "    </tr>\n",
              "    <tr>\n",
              "      <th>5</th>\n",
              "      <td>legisl</td>\n",
              "      <td>0.3</td>\n",
              "      <td>think</td>\n",
              "      <td>0.2</td>\n",
              "      <td>com</td>\n",
              "      <td>0.2</td>\n",
              "      <td>jr</td>\n",
              "      <td>1.0</td>\n",
              "      <td>exit</td>\n",
              "      <td>0.8</td>\n",
              "      <td>studi</td>\n",
              "      <td>0.7</td>\n",
              "      <td>us</td>\n",
              "      <td>0.4</td>\n",
              "      <td>bolivia</td>\n",
              "      <td>1.0</td>\n",
              "      <td>govern</td>\n",
              "      <td>0.8</td>\n",
              "      <td>dc</td>\n",
              "      <td>0.6</td>\n",
              "    </tr>\n",
              "    <tr>\n",
              "      <th>6</th>\n",
              "      <td>u</td>\n",
              "      <td>0.3</td>\n",
              "      <td>stop</td>\n",
              "      <td>0.2</td>\n",
              "      <td>un</td>\n",
              "      <td>0.1</td>\n",
              "      <td>storm</td>\n",
              "      <td>1.0</td>\n",
              "      <td>climat</td>\n",
              "      <td>0.7</td>\n",
              "      <td>administr</td>\n",
              "      <td>0.7</td>\n",
              "      <td>fact</td>\n",
              "      <td>0.3</td>\n",
              "      <td>day</td>\n",
              "      <td>1.0</td>\n",
              "      <td>may</td>\n",
              "      <td>0.8</td>\n",
              "      <td>gore</td>\n",
              "      <td>0.5</td>\n",
              "    </tr>\n",
              "    <tr>\n",
              "      <th>7</th>\n",
              "      <td>un</td>\n",
              "      <td>0.3</td>\n",
              "      <td>effect</td>\n",
              "      <td>0.2</td>\n",
              "      <td>environ</td>\n",
              "      <td>0.1</td>\n",
              "      <td>cold</td>\n",
              "      <td>0.9</td>\n",
              "      <td>compromis</td>\n",
              "      <td>0.7</td>\n",
              "      <td>propos</td>\n",
              "      <td>0.6</td>\n",
              "      <td>nasa</td>\n",
              "      <td>0.3</td>\n",
              "      <td>mother</td>\n",
              "      <td>1.0</td>\n",
              "      <td>u</td>\n",
              "      <td>0.4</td>\n",
              "      <td>#ocra</td>\n",
              "      <td>0.5</td>\n",
              "    </tr>\n",
              "    <tr>\n",
              "      <th>8</th>\n",
              "      <td>get</td>\n",
              "      <td>0.2</td>\n",
              "      <td>volcano</td>\n",
              "      <td>0.2</td>\n",
              "      <td>mean</td>\n",
              "      <td>0.1</td>\n",
              "      <td>washington</td>\n",
              "      <td>0.9</td>\n",
              "      <td>prepar</td>\n",
              "      <td>0.7</td>\n",
              "      <td>york</td>\n",
              "      <td>0.6</td>\n",
              "      <td>#p</td>\n",
              "      <td>0.3</td>\n",
              "      <td>indigen</td>\n",
              "      <td>0.4</td>\n",
              "      <td>carbon</td>\n",
              "      <td>0.3</td>\n",
              "      <td>al</td>\n",
              "      <td>0.5</td>\n",
              "    </tr>\n",
              "    <tr>\n",
              "      <th>9</th>\n",
              "      <td>action</td>\n",
              "      <td>0.2</td>\n",
              "      <td>believ</td>\n",
              "      <td>0.2</td>\n",
              "      <td>impact</td>\n",
              "      <td>0.1</td>\n",
              "      <td>ago</td>\n",
              "      <td>0.9</td>\n",
              "      <td>immigr</td>\n",
              "      <td>0.6</td>\n",
              "      <td>report</td>\n",
              "      <td>0.5</td>\n",
              "      <td>thought</td>\n",
              "      <td>0.3</td>\n",
              "      <td>cochabamba</td>\n",
              "      <td>0.3</td>\n",
              "      <td>china</td>\n",
              "      <td>0.3</td>\n",
              "      <td>#tlot</td>\n",
              "      <td>0.5</td>\n",
              "    </tr>\n",
              "  </tbody>\n",
              "</table>\n",
              "</div>"
            ],
            "text/plain": [
              "  Topic 0 words Topic 0 weights  ... Topic 9 words Topic 9 weights\n",
              "0        climat            10.8  ...         #tcot             5.6\n",
              "1         chang             9.8  ...            #p             1.7\n",
              "2        energi             0.3  ...     #teaparty             1.0\n",
              "3        scienc             0.3  ...          #gop             0.6\n",
              "4         fight             0.3  ...          scam             0.6\n",
              "5        legisl             0.3  ...            dc             0.6\n",
              "6             u             0.3  ...          gore             0.5\n",
              "7            un             0.3  ...         #ocra             0.5\n",
              "8           get             0.2  ...            al             0.5\n",
              "9        action             0.2  ...         #tlot             0.5\n",
              "\n",
              "[10 rows x 20 columns]"
            ]
          },
          "metadata": {},
          "execution_count": 47
        }
      ]
    },
    {
      "cell_type": "code",
      "metadata": {
        "colab": {
          "base_uri": "https://localhost:8080/"
        },
        "id": "Fc-b3q6LEVdu",
        "outputId": "8e1b8454-fabc-42c2-9813-1401ba2d8d66"
      },
      "source": [
        "pip install gensim\n"
      ],
      "execution_count": null,
      "outputs": [
        {
          "output_type": "stream",
          "name": "stdout",
          "text": [
            "Requirement already satisfied: gensim in /usr/local/lib/python3.7/dist-packages (4.1.2)\n",
            "Requirement already satisfied: scipy>=0.18.1 in /usr/local/lib/python3.7/dist-packages (from gensim) (1.4.1)\n",
            "Requirement already satisfied: numpy>=1.17.0 in /usr/local/lib/python3.7/dist-packages (from gensim) (1.21.2)\n",
            "Requirement already satisfied: smart-open>=1.8.1 in /usr/local/lib/python3.7/dist-packages (from gensim) (5.2.1)\n"
          ]
        }
      ]
    },
    {
      "cell_type": "code",
      "metadata": {
        "colab": {
          "base_uri": "https://localhost:8080/"
        },
        "id": "pbyuLLuQvZ3d",
        "outputId": "25ff1b00-ab9b-4d7e-a03a-2cfcea0e56d0"
      },
      "source": [
        "!pip install --upgrade gensim"
      ],
      "execution_count": null,
      "outputs": [
        {
          "output_type": "stream",
          "name": "stdout",
          "text": [
            "Requirement already satisfied: gensim in /usr/local/lib/python3.7/dist-packages (4.1.2)\n",
            "Requirement already satisfied: numpy>=1.17.0 in /usr/local/lib/python3.7/dist-packages (from gensim) (1.21.2)\n",
            "Requirement already satisfied: scipy>=0.18.1 in /usr/local/lib/python3.7/dist-packages (from gensim) (1.4.1)\n",
            "Requirement already satisfied: smart-open>=1.8.1 in /usr/local/lib/python3.7/dist-packages (from gensim) (5.2.1)\n"
          ]
        }
      ]
    },
    {
      "cell_type": "code",
      "metadata": {
        "id": "jeniDyKe-64H"
      },
      "source": [
        "from gensim.models import CoherenceModel, LdaModel, TfidfModel\n",
        "from gensim.models.nmf import Nmf "
      ],
      "execution_count": null,
      "outputs": []
    },
    {
      "cell_type": "code",
      "metadata": {
        "id": "OYjBQ6qjzx4H",
        "colab": {
          "base_uri": "https://localhost:8080/"
        },
        "outputId": "c4b17078-554a-4827-ba66-6524a2b4f883"
      },
      "source": [
        "pip install pyLDAvis"
      ],
      "execution_count": null,
      "outputs": [
        {
          "output_type": "stream",
          "name": "stdout",
          "text": [
            "Requirement already satisfied: pyLDAvis in /usr/local/lib/python3.7/dist-packages (3.3.1)\n",
            "Requirement already satisfied: scipy in /usr/local/lib/python3.7/dist-packages (from pyLDAvis) (1.4.1)\n",
            "Requirement already satisfied: numpy>=1.20.0 in /usr/local/lib/python3.7/dist-packages (from pyLDAvis) (1.21.2)\n",
            "Requirement already satisfied: scikit-learn in /usr/local/lib/python3.7/dist-packages (from pyLDAvis) (0.22.2.post1)\n",
            "Requirement already satisfied: setuptools in /usr/local/lib/python3.7/dist-packages (from pyLDAvis) (57.4.0)\n",
            "Requirement already satisfied: sklearn in /usr/local/lib/python3.7/dist-packages (from pyLDAvis) (0.0)\n",
            "Requirement already satisfied: numexpr in /usr/local/lib/python3.7/dist-packages (from pyLDAvis) (2.7.3)\n",
            "Requirement already satisfied: future in /usr/local/lib/python3.7/dist-packages (from pyLDAvis) (0.16.0)\n",
            "Requirement already satisfied: gensim in /usr/local/lib/python3.7/dist-packages (from pyLDAvis) (4.1.2)\n",
            "Requirement already satisfied: joblib in /usr/local/lib/python3.7/dist-packages (from pyLDAvis) (1.0.1)\n",
            "Requirement already satisfied: pandas>=1.2.0 in /usr/local/lib/python3.7/dist-packages (from pyLDAvis) (1.3.3)\n",
            "Requirement already satisfied: jinja2 in /usr/local/lib/python3.7/dist-packages (from pyLDAvis) (2.11.3)\n",
            "Requirement already satisfied: funcy in /usr/local/lib/python3.7/dist-packages (from pyLDAvis) (1.16)\n",
            "Requirement already satisfied: python-dateutil>=2.7.3 in /usr/local/lib/python3.7/dist-packages (from pandas>=1.2.0->pyLDAvis) (2.8.2)\n",
            "Requirement already satisfied: pytz>=2017.3 in /usr/local/lib/python3.7/dist-packages (from pandas>=1.2.0->pyLDAvis) (2018.9)\n",
            "Requirement already satisfied: smart-open>=1.8.1 in /usr/local/lib/python3.7/dist-packages (from gensim->pyLDAvis) (5.2.1)\n",
            "Requirement already satisfied: MarkupSafe>=0.23 in /usr/local/lib/python3.7/dist-packages (from jinja2->pyLDAvis) (2.0.1)\n",
            "Requirement already satisfied: six>=1.5 in /usr/local/lib/python3.7/dist-packages (from python-dateutil>=2.7.3->pandas>=1.2.0->pyLDAvis) (1.15.0)\n",
            "\u001b[33mWARNING: Running pip as the 'root' user can result in broken permissions and conflicting behaviour with the system package manager. It is recommended to use a virtual environment instead: https://pip.pypa.io/warnings/venv\u001b[0m\n"
          ]
        }
      ]
    },
    {
      "cell_type": "code",
      "metadata": {
        "colab": {
          "base_uri": "https://localhost:8080/"
        },
        "id": "3k-1IlE79zL2",
        "outputId": "55714986-2337-490f-9d02-c86e8f8ca041"
      },
      "source": [
        "pip install --upgrade pip"
      ],
      "execution_count": null,
      "outputs": [
        {
          "output_type": "stream",
          "name": "stdout",
          "text": [
            "Requirement already satisfied: pip in /usr/local/lib/python3.7/dist-packages (21.1.3)\n",
            "Collecting pip\n",
            "  Downloading pip-21.3-py3-none-any.whl (1.7 MB)\n",
            "\u001b[K     |████████████████████████████████| 1.7 MB 5.1 MB/s \n",
            "\u001b[?25hInstalling collected packages: pip\n",
            "  Attempting uninstall: pip\n",
            "    Found existing installation: pip 21.1.3\n",
            "    Uninstalling pip-21.1.3:\n",
            "      Successfully uninstalled pip-21.1.3\n",
            "Successfully installed pip-21.3\n"
          ]
        }
      ]
    },
    {
      "cell_type": "code",
      "metadata": {
        "colab": {
          "base_uri": "https://localhost:8080/",
          "height": 1355
        },
        "id": "Nnq24mb098S3",
        "outputId": "42729de8-ca8d-4d3e-e75f-3b2ba42651ce"
      },
      "source": [
        "pip install --upgrade jupyter notebook\n"
      ],
      "execution_count": null,
      "outputs": [
        {
          "output_type": "stream",
          "name": "stdout",
          "text": [
            "Requirement already satisfied: jupyter in /usr/local/lib/python3.7/dist-packages (1.0.0)\n",
            "Requirement already satisfied: notebook in /usr/local/lib/python3.7/dist-packages (5.3.1)\n",
            "Collecting notebook\n",
            "  Downloading notebook-6.4.4-py3-none-any.whl (9.9 MB)\n",
            "     |████████████████████████████████| 9.9 MB 5.0 MB/s            \n",
            "\u001b[?25hRequirement already satisfied: qtconsole in /usr/local/lib/python3.7/dist-packages (from jupyter) (5.1.1)\n",
            "Requirement already satisfied: nbconvert in /usr/local/lib/python3.7/dist-packages (from jupyter) (5.6.1)\n",
            "Requirement already satisfied: ipywidgets in /usr/local/lib/python3.7/dist-packages (from jupyter) (7.6.5)\n",
            "Requirement already satisfied: ipykernel in /usr/local/lib/python3.7/dist-packages (from jupyter) (4.10.1)\n",
            "Requirement already satisfied: jupyter-console in /usr/local/lib/python3.7/dist-packages (from jupyter) (5.2.0)\n",
            "Requirement already satisfied: ipython-genutils in /usr/local/lib/python3.7/dist-packages (from notebook) (0.2.0)\n",
            "Requirement already satisfied: nbformat in /usr/local/lib/python3.7/dist-packages (from notebook) (5.1.3)\n",
            "Requirement already satisfied: pyzmq>=17 in /usr/local/lib/python3.7/dist-packages (from notebook) (22.3.0)\n",
            "Requirement already satisfied: traitlets>=4.2.1 in /usr/local/lib/python3.7/dist-packages (from notebook) (5.1.0)\n",
            "Requirement already satisfied: jinja2 in /usr/local/lib/python3.7/dist-packages (from notebook) (2.11.3)\n",
            "Requirement already satisfied: argon2-cffi in /usr/local/lib/python3.7/dist-packages (from notebook) (21.1.0)\n",
            "Collecting tornado>=6.1\n",
            "  Downloading tornado-6.1-cp37-cp37m-manylinux2010_x86_64.whl (428 kB)\n",
            "     |████████████████████████████████| 428 kB 66.9 MB/s            \n",
            "\u001b[?25hRequirement already satisfied: prometheus-client in /usr/local/lib/python3.7/dist-packages (from notebook) (0.11.0)\n",
            "Requirement already satisfied: Send2Trash>=1.5.0 in /usr/local/lib/python3.7/dist-packages (from notebook) (1.8.0)\n",
            "Requirement already satisfied: jupyter-client>=5.3.4 in /usr/local/lib/python3.7/dist-packages (from notebook) (5.3.5)\n",
            "Requirement already satisfied: jupyter-core>=4.6.1 in /usr/local/lib/python3.7/dist-packages (from notebook) (4.8.1)\n",
            "Requirement already satisfied: terminado>=0.8.3 in /usr/local/lib/python3.7/dist-packages (from notebook) (0.12.1)\n",
            "Requirement already satisfied: python-dateutil>=2.1 in /usr/local/lib/python3.7/dist-packages (from jupyter-client>=5.3.4->notebook) (2.8.2)\n",
            "Requirement already satisfied: ptyprocess in /usr/local/lib/python3.7/dist-packages (from terminado>=0.8.3->notebook) (0.7.0)\n",
            "Requirement already satisfied: cffi>=1.0.0 in /usr/local/lib/python3.7/dist-packages (from argon2-cffi->notebook) (1.14.6)\n",
            "Requirement already satisfied: ipython>=4.0.0 in /usr/local/lib/python3.7/dist-packages (from ipykernel->jupyter) (5.5.0)\n",
            "Requirement already satisfied: widgetsnbextension~=3.5.0 in /usr/local/lib/python3.7/dist-packages (from ipywidgets->jupyter) (3.5.1)\n",
            "Requirement already satisfied: jupyterlab-widgets>=1.0.0 in /usr/local/lib/python3.7/dist-packages (from ipywidgets->jupyter) (1.0.2)\n",
            "Requirement already satisfied: jsonschema!=2.5.0,>=2.4 in /usr/local/lib/python3.7/dist-packages (from nbformat->notebook) (2.6.0)\n",
            "Requirement already satisfied: MarkupSafe>=0.23 in /usr/local/lib/python3.7/dist-packages (from jinja2->notebook) (2.0.1)\n",
            "Requirement already satisfied: pygments in /usr/local/lib/python3.7/dist-packages (from jupyter-console->jupyter) (2.6.1)\n",
            "Requirement already satisfied: prompt-toolkit<2.0.0,>=1.0.0 in /usr/local/lib/python3.7/dist-packages (from jupyter-console->jupyter) (1.0.18)\n",
            "Requirement already satisfied: mistune<2,>=0.8.1 in /usr/local/lib/python3.7/dist-packages (from nbconvert->jupyter) (0.8.4)\n",
            "Requirement already satisfied: bleach in /usr/local/lib/python3.7/dist-packages (from nbconvert->jupyter) (4.1.0)\n",
            "Requirement already satisfied: defusedxml in /usr/local/lib/python3.7/dist-packages (from nbconvert->jupyter) (0.7.1)\n",
            "Requirement already satisfied: pandocfilters>=1.4.1 in /usr/local/lib/python3.7/dist-packages (from nbconvert->jupyter) (1.5.0)\n",
            "Requirement already satisfied: testpath in /usr/local/lib/python3.7/dist-packages (from nbconvert->jupyter) (0.5.0)\n",
            "Requirement already satisfied: entrypoints>=0.2.2 in /usr/local/lib/python3.7/dist-packages (from nbconvert->jupyter) (0.3)\n",
            "Requirement already satisfied: qtpy in /usr/local/lib/python3.7/dist-packages (from qtconsole->jupyter) (1.11.2)\n",
            "Requirement already satisfied: pycparser in /usr/local/lib/python3.7/dist-packages (from cffi>=1.0.0->argon2-cffi->notebook) (2.20)\n",
            "Requirement already satisfied: simplegeneric>0.8 in /usr/local/lib/python3.7/dist-packages (from ipython>=4.0.0->ipykernel->jupyter) (0.8.1)\n",
            "Requirement already satisfied: decorator in /usr/local/lib/python3.7/dist-packages (from ipython>=4.0.0->ipykernel->jupyter) (4.4.2)\n",
            "Requirement already satisfied: pickleshare in /usr/local/lib/python3.7/dist-packages (from ipython>=4.0.0->ipykernel->jupyter) (0.7.5)\n",
            "Requirement already satisfied: setuptools>=18.5 in /usr/local/lib/python3.7/dist-packages (from ipython>=4.0.0->ipykernel->jupyter) (57.4.0)\n",
            "Requirement already satisfied: pexpect in /usr/local/lib/python3.7/dist-packages (from ipython>=4.0.0->ipykernel->jupyter) (4.8.0)\n",
            "Requirement already satisfied: wcwidth in /usr/local/lib/python3.7/dist-packages (from prompt-toolkit<2.0.0,>=1.0.0->jupyter-console->jupyter) (0.2.5)\n",
            "Requirement already satisfied: six>=1.9.0 in /usr/local/lib/python3.7/dist-packages (from prompt-toolkit<2.0.0,>=1.0.0->jupyter-console->jupyter) (1.15.0)\n",
            "Requirement already satisfied: webencodings in /usr/local/lib/python3.7/dist-packages (from bleach->nbconvert->jupyter) (0.5.1)\n",
            "Requirement already satisfied: packaging in /usr/local/lib/python3.7/dist-packages (from bleach->nbconvert->jupyter) (21.0)\n",
            "Requirement already satisfied: pyparsing>=2.0.2 in /usr/local/lib/python3.7/dist-packages (from packaging->bleach->nbconvert->jupyter) (2.4.7)\n",
            "Installing collected packages: tornado, notebook\n",
            "  Attempting uninstall: tornado\n",
            "    Found existing installation: tornado 5.1.1\n",
            "    Uninstalling tornado-5.1.1:\n",
            "      Successfully uninstalled tornado-5.1.1\n",
            "  Attempting uninstall: notebook\n",
            "    Found existing installation: notebook 5.3.1\n",
            "    Uninstalling notebook-5.3.1:\n",
            "      Successfully uninstalled notebook-5.3.1\n",
            "\u001b[31mERROR: pip's dependency resolver does not currently take into account all the packages that are installed. This behaviour is the source of the following dependency conflicts.\n",
            "google-colab 1.0.0 requires notebook~=5.3.0; python_version >= \"3.0\", but you have notebook 6.4.4 which is incompatible.\n",
            "google-colab 1.0.0 requires pandas~=1.1.0; python_version >= \"3.0\", but you have pandas 1.3.3 which is incompatible.\n",
            "google-colab 1.0.0 requires tornado~=5.1.0; python_version >= \"3.0\", but you have tornado 6.1 which is incompatible.\u001b[0m\n",
            "Successfully installed notebook-6.4.4 tornado-6.1\n",
            "\u001b[33mWARNING: Running pip as the 'root' user can result in broken permissions and conflicting behaviour with the system package manager. It is recommended to use a virtual environment instead: https://pip.pypa.io/warnings/venv\u001b[0m\n"
          ]
        },
        {
          "output_type": "display_data",
          "data": {
            "application/vnd.colab-display-data+json": {
              "pip_warning": {
                "packages": [
                  "tornado"
                ]
              }
            }
          },
          "metadata": {}
        }
      ]
    },
    {
      "cell_type": "markdown",
      "metadata": {
        "id": "QQCurLrdEolr"
      },
      "source": [
        "# **## Second trial**"
      ]
    },
    {
      "cell_type": "code",
      "metadata": {
        "id": "OgBUrYfoEZFp"
      },
      "source": [
        "import re\n",
        "import numpy as np\n",
        "import pandas as pd\n",
        "from pprint import pprint\n",
        "\n",
        "# Gensim\n",
        "import gensim\n",
        "import gensim.corpora as corpora\n",
        "from gensim.utils import simple_preprocess\n",
        "from gensim.models import CoherenceModel\n",
        "from gensim.models.nmf import Nmf as GensimNmf\n",
        "\n",
        "\n",
        "# spacy for lemmatization\n",
        "import spacy\n",
        "\n",
        "\n",
        "import warnings\n",
        "warnings.filterwarnings(\"ignore\",category=DeprecationWarning)"
      ],
      "execution_count": null,
      "outputs": []
    },
    {
      "cell_type": "markdown",
      "metadata": {
        "id": "Rm6bbyRg-k-j"
      },
      "source": [
        "#**Prepare StopWords**"
      ]
    },
    {
      "cell_type": "code",
      "metadata": {
        "id": "ZqZRr0Bz9GDO"
      },
      "source": [
        "# NLTK Stop words\n",
        "from nltk.corpus import stopwords\n",
        "stop_words = stopwords.words('english')\n",
        "stop_words.extend(['from', 'subject', 're', 'edu', 'use'])"
      ],
      "execution_count": null,
      "outputs": []
    },
    {
      "cell_type": "markdown",
      "metadata": {
        "id": "Fh9TWLi_-wft"
      },
      "source": [
        "#**1. Import Newsgroups Data**\n",
        "\n",
        "\n"
      ]
    },
    {
      "cell_type": "code",
      "metadata": {
        "colab": {
          "base_uri": "https://localhost:8080/",
          "height": 310
        },
        "id": "eDyKR1D69WVP",
        "outputId": "895dcb0b-428e-42e6-899e-9cf00f57947c"
      },
      "source": [
        "# Import Dataset\n",
        "df = pd.read_json('https://raw.githubusercontent.com/selva86/datasets/master/newsgroups.json')\n",
        "print(df.target_names.unique())\n",
        "df.head()"
      ],
      "execution_count": null,
      "outputs": [
        {
          "output_type": "stream",
          "name": "stdout",
          "text": [
            "['rec.autos' 'comp.sys.mac.hardware' 'comp.graphics' 'sci.space'\n",
            " 'talk.politics.guns' 'sci.med' 'comp.sys.ibm.pc.hardware'\n",
            " 'comp.os.ms-windows.misc' 'rec.motorcycles' 'talk.religion.misc'\n",
            " 'misc.forsale' 'alt.atheism' 'sci.electronics' 'comp.windows.x'\n",
            " 'rec.sport.hockey' 'rec.sport.baseball' 'soc.religion.christian'\n",
            " 'talk.politics.mideast' 'talk.politics.misc' 'sci.crypt']\n"
          ]
        },
        {
          "output_type": "execute_result",
          "data": {
            "text/html": [
              "<div>\n",
              "<style scoped>\n",
              "    .dataframe tbody tr th:only-of-type {\n",
              "        vertical-align: middle;\n",
              "    }\n",
              "\n",
              "    .dataframe tbody tr th {\n",
              "        vertical-align: top;\n",
              "    }\n",
              "\n",
              "    .dataframe thead th {\n",
              "        text-align: right;\n",
              "    }\n",
              "</style>\n",
              "<table border=\"1\" class=\"dataframe\">\n",
              "  <thead>\n",
              "    <tr style=\"text-align: right;\">\n",
              "      <th></th>\n",
              "      <th>content</th>\n",
              "      <th>target</th>\n",
              "      <th>target_names</th>\n",
              "    </tr>\n",
              "  </thead>\n",
              "  <tbody>\n",
              "    <tr>\n",
              "      <th>0</th>\n",
              "      <td>From: lerxst@wam.umd.edu (where's my thing)\\nS...</td>\n",
              "      <td>7</td>\n",
              "      <td>rec.autos</td>\n",
              "    </tr>\n",
              "    <tr>\n",
              "      <th>1</th>\n",
              "      <td>From: guykuo@carson.u.washington.edu (Guy Kuo)...</td>\n",
              "      <td>4</td>\n",
              "      <td>comp.sys.mac.hardware</td>\n",
              "    </tr>\n",
              "    <tr>\n",
              "      <th>2</th>\n",
              "      <td>From: twillis@ec.ecn.purdue.edu (Thomas E Will...</td>\n",
              "      <td>4</td>\n",
              "      <td>comp.sys.mac.hardware</td>\n",
              "    </tr>\n",
              "    <tr>\n",
              "      <th>3</th>\n",
              "      <td>From: jgreen@amber (Joe Green)\\nSubject: Re: W...</td>\n",
              "      <td>1</td>\n",
              "      <td>comp.graphics</td>\n",
              "    </tr>\n",
              "    <tr>\n",
              "      <th>4</th>\n",
              "      <td>From: jcm@head-cfa.harvard.edu (Jonathan McDow...</td>\n",
              "      <td>14</td>\n",
              "      <td>sci.space</td>\n",
              "    </tr>\n",
              "  </tbody>\n",
              "</table>\n",
              "</div>"
            ],
            "text/plain": [
              "                                             content  ...           target_names\n",
              "0  From: lerxst@wam.umd.edu (where's my thing)\\nS...  ...              rec.autos\n",
              "1  From: guykuo@carson.u.washington.edu (Guy Kuo)...  ...  comp.sys.mac.hardware\n",
              "2  From: twillis@ec.ecn.purdue.edu (Thomas E Will...  ...  comp.sys.mac.hardware\n",
              "3  From: jgreen@amber (Joe Green)\\nSubject: Re: W...  ...          comp.graphics\n",
              "4  From: jcm@head-cfa.harvard.edu (Jonathan McDow...  ...              sci.space\n",
              "\n",
              "[5 rows x 3 columns]"
            ]
          },
          "metadata": {},
          "execution_count": 4
        }
      ]
    },
    {
      "cell_type": "markdown",
      "metadata": {
        "id": "-b8KonjHBKHM"
      },
      "source": [
        "#**1.1 Remove emails and newline characters**\n",
        "As you can see there are many emails, newline and extra spaces that is quite distracting. Let’s get rid of them using regular expressions."
      ]
    },
    {
      "cell_type": "code",
      "metadata": {
        "colab": {
          "base_uri": "https://localhost:8080/"
        },
        "id": "j1UHIVkwC02h",
        "outputId": "7d6c7a69-1232-4604-b486-238a74344515"
      },
      "source": [
        "# Convert to list\n",
        "data = df.content.values.tolist()\n",
        "pprint(data[:1])\n",
        "\n",
        "# Remove Emails\n",
        "data = [re.sub('\\S*@\\S*\\s?', '', sent) for sent in data]\n",
        "\n",
        "# Remove new line characters\n",
        "data = [re.sub('\\s+', ' ', sent) for sent in data]\n",
        "\n",
        "# Remove distracting single quotes\n",
        "data = [re.sub(\"\\'\", \"\", sent) for sent in data]\n",
        "\n",
        "pprint(data[0:1])"
      ],
      "execution_count": null,
      "outputs": [
        {
          "output_type": "stream",
          "name": "stdout",
          "text": [
            "[\"From: lerxst@wam.umd.edu (where's my thing)\\n\"\n",
            " 'Subject: WHAT car is this!?\\n'\n",
            " 'Nntp-Posting-Host: rac3.wam.umd.edu\\n'\n",
            " 'Organization: University of Maryland, College Park\\n'\n",
            " 'Lines: 15\\n'\n",
            " '\\n'\n",
            " ' I was wondering if anyone out there could enlighten me on this car I saw\\n'\n",
            " 'the other day. It was a 2-door sports car, looked to be from the late 60s/\\n'\n",
            " 'early 70s. It was called a Bricklin. The doors were really small. In '\n",
            " 'addition,\\n'\n",
            " 'the front bumper was separate from the rest of the body. This is \\n'\n",
            " 'all I know. If anyone can tellme a model name, engine specs, years\\n'\n",
            " 'of production, where this car is made, history, or whatever info you\\n'\n",
            " 'have on this funky looking car, please e-mail.\\n'\n",
            " '\\n'\n",
            " 'Thanks,\\n'\n",
            " '- IL\\n'\n",
            " '   ---- brought to you by your neighborhood Lerxst ----\\n'\n",
            " '\\n'\n",
            " '\\n'\n",
            " '\\n'\n",
            " '\\n']\n",
            "['From: (wheres my thing) Subject: WHAT car is this!? Nntp-Posting-Host: '\n",
            " 'rac3.wam.umd.edu Organization: University of Maryland, College Park Lines: '\n",
            " '15 I was wondering if anyone out there could enlighten me on this car I saw '\n",
            " 'the other day. It was a 2-door sports car, looked to be from the late 60s/ '\n",
            " 'early 70s. It was called a Bricklin. The doors were really small. In '\n",
            " 'addition, the front bumper was separate from the rest of the body. This is '\n",
            " 'all I know. If anyone can tellme a model name, engine specs, years of '\n",
            " 'production, where this car is made, history, or whatever info you have on '\n",
            " 'this funky looking car, please e-mail. Thanks, - IL ---- brought to you by '\n",
            " 'your neighborhood Lerxst ---- ']\n"
          ]
        }
      ]
    },
    {
      "cell_type": "markdown",
      "metadata": {
        "id": "pMGshWC5D4Hj"
      },
      "source": [
        "#**1.2 Tokenize words and Clean-up text**"
      ]
    },
    {
      "cell_type": "markdown",
      "metadata": {
        "id": "2OdJiiL6DvQ1"
      },
      "source": [
        "#**We need to break down each sentence into a list of words through tokenization, while clearing up all the messy text in the process.**"
      ]
    },
    {
      "cell_type": "code",
      "metadata": {
        "colab": {
          "base_uri": "https://localhost:8080/"
        },
        "id": "vOyBsXt3C1VA",
        "outputId": "8782d119-a976-4c0a-972d-295bc0e51369"
      },
      "source": [
        "def sent_to_words(sentences):\n",
        "    for sentence in sentences:\n",
        "        yield(gensim.utils.simple_preprocess(str(sentence), deacc=True))  # deacc=True removes punctuations\n",
        "\n",
        "data_words = list(sent_to_words(data))\n",
        "\n",
        "print(data_words[:1])"
      ],
      "execution_count": null,
      "outputs": [
        {
          "output_type": "stream",
          "name": "stdout",
          "text": [
            "[['from', 'wheres', 'my', 'thing', 'subject', 'what', 'car', 'is', 'this', 'nntp', 'posting', 'host', 'rac', 'wam', 'umd', 'edu', 'organization', 'university', 'of', 'maryland', 'college', 'park', 'lines', 'was', 'wondering', 'if', 'anyone', 'out', 'there', 'could', 'enlighten', 'me', 'on', 'this', 'car', 'saw', 'the', 'other', 'day', 'it', 'was', 'door', 'sports', 'car', 'looked', 'to', 'be', 'from', 'the', 'late', 'early', 'it', 'was', 'called', 'bricklin', 'the', 'doors', 'were', 'really', 'small', 'in', 'addition', 'the', 'front', 'bumper', 'was', 'separate', 'from', 'the', 'rest', 'of', 'the', 'body', 'this', 'is', 'all', 'know', 'if', 'anyone', 'can', 'tellme', 'model', 'name', 'engine', 'specs', 'years', 'of', 'production', 'where', 'this', 'car', 'is', 'made', 'history', 'or', 'whatever', 'info', 'you', 'have', 'on', 'this', 'funky', 'looking', 'car', 'please', 'mail', 'thanks', 'il', 'brought', 'to', 'you', 'by', 'your', 'neighborhood', 'lerxst']]\n"
          ]
        }
      ]
    },
    {
      "cell_type": "markdown",
      "metadata": {
        "id": "lZo4wO73H4rO"
      },
      "source": [
        "#**2. Creating Bigram and Trigram Models**\n",
        "**Bigrams** are two words frequently occurring together in the document. \n",
        "**Trigrams** are 3 words frequently occurring.\n",
        "Some examples in our example are: ‘front_bumper’, ‘oil_leak’, ‘maryland_college_park’ etc."
      ]
    },
    {
      "cell_type": "code",
      "metadata": {
        "colab": {
          "base_uri": "https://localhost:8080/"
        },
        "id": "RAMJltGsD_Fm",
        "outputId": "6ef1a995-1aff-456a-9358-a6f6f55bfed7"
      },
      "source": [
        "# Build the bigram and trigram models\n",
        "bigram = gensim.models.Phrases(data_words, min_count=5, threshold=100) # higher threshold fewer phrases.\n",
        "trigram = gensim.models.Phrases(bigram[data_words], threshold=100)  \n",
        "\n",
        "# Faster way to get a sentence clubbed as a trigram/bigram\n",
        "bigram_mod = gensim.models.phrases.Phraser(bigram)\n",
        "trigram_mod = gensim.models.phrases.Phraser(trigram)\n",
        "\n",
        "# See trigram example\n",
        "print(trigram_mod[bigram_mod[data_words[0]]])"
      ],
      "execution_count": null,
      "outputs": [
        {
          "output_type": "stream",
          "name": "stdout",
          "text": [
            "['from', 'wheres', 'my', 'thing', 'subject', 'what', 'car', 'is', 'this', 'nntp_posting_host', 'rac_wam_umd_edu', 'organization', 'university', 'of', 'maryland_college_park', 'lines', 'was', 'wondering', 'if', 'anyone', 'out', 'there', 'could', 'enlighten', 'me', 'on', 'this', 'car', 'saw', 'the', 'other', 'day', 'it', 'was', 'door', 'sports', 'car', 'looked', 'to', 'be', 'from', 'the', 'late', 'early', 'it', 'was', 'called', 'bricklin', 'the', 'doors', 'were', 'really', 'small', 'in', 'addition', 'the', 'front_bumper', 'was', 'separate', 'from', 'the', 'rest', 'of', 'the', 'body', 'this', 'is', 'all', 'know', 'if', 'anyone', 'can', 'tellme', 'model', 'name', 'engine', 'specs', 'years', 'of', 'production', 'where', 'this', 'car', 'is', 'made', 'history', 'or', 'whatever', 'info', 'you', 'have', 'on', 'this', 'funky', 'looking', 'car', 'please', 'mail', 'thanks', 'il', 'brought', 'to', 'you', 'by', 'your', 'neighborhood', 'lerxst']\n"
          ]
        }
      ]
    },
    {
      "cell_type": "markdown",
      "metadata": {
        "id": "Mb-rpP8WI0oz"
      },
      "source": [
        "#**3. Remove Stopwords, Make Bigrams and Lemmatize**\n",
        "The bigrams model is ready. Let’s define the functions to remove the stopwords, make bigrams and lemmatization and call them sequentially.\n",
        "\n"
      ]
    },
    {
      "cell_type": "code",
      "metadata": {
        "id": "mVfPDPrZIXUw"
      },
      "source": [
        "# Define functions for stopwords, bigrams, trigrams and lemmatization\n",
        "def remove_stopwords(texts):\n",
        "    return [[word for word in simple_preprocess(str(doc)) if word not in stop_words] for doc in texts]\n",
        "\n",
        "def make_bigrams(texts):\n",
        "    return [bigram_mod[doc] for doc in texts]\n",
        "\n",
        "def make_trigrams(texts):\n",
        "    return [trigram_mod[bigram_mod[doc]] for doc in texts]\n",
        "\n",
        "def lemmatization(texts, allowed_postags=['NOUN', 'ADJ', 'VERB', 'ADV']):\n",
        "    \"\"\"https://spacy.io/api/annotation\"\"\"\n",
        "    texts_out = []\n",
        "    for sent in texts:\n",
        "        doc = nlp(\" \".join(sent)) \n",
        "        texts_out.append([token.lemma_ for token in doc if token.pos_ in allowed_postags])\n",
        "    return texts_out\n"
      ],
      "execution_count": null,
      "outputs": []
    },
    {
      "cell_type": "markdown",
      "metadata": {
        "id": "f7sxA9mjTKwA"
      },
      "source": [
        "##**Let’s call the functions in order.**\n",
        "\n"
      ]
    },
    {
      "cell_type": "code",
      "metadata": {
        "colab": {
          "base_uri": "https://localhost:8080/"
        },
        "id": "OJJmU9SfTOka",
        "outputId": "03f2a39b-7457-461f-bc7d-839cacb3c638"
      },
      "source": [
        "# Remove Stop Words\n",
        "data_words_nostops = remove_stopwords(data_words)\n",
        "# Form Bigrams\n",
        "data_words_bigrams = make_bigrams(data_words_nostops)\n",
        "\n",
        "# Initialize spacy 'en' model, keeping only tagger component (for efficiency)\n",
        "# python3 -m spacy download en\n",
        "nlp = spacy.load('en', disable=['parser', 'ner'])\n",
        "\n",
        "# Do lemmatization keeping only noun, adj, vb, adv\n",
        "data_lemmatized = lemmatization(data_words_bigrams, allowed_postags=['NOUN', 'ADJ', 'VERB', 'ADV'])\n",
        "\n",
        "print(data_lemmatized[:1])"
      ],
      "execution_count": null,
      "outputs": [
        {
          "output_type": "stream",
          "name": "stdout",
          "text": [
            "[['where', 'thing', 'car', 'nntp_poste', 'host', 'park', 'line', 'wonder', 'could', 'enlighten', 'car', 'see', 'day', 'door', 'sport', 'car', 'look', 'late', 'early', 'call', 'bricklin', 'door', 'really', 'small', 'addition', 'separate', 'rest', 'body', 'know', 'tellme', 'model', 'name', 'engine', 'year', 'production', 'car', 'make', 'history', 'info', 'funky', 'look', 'car', 'mail', 'thank', 'bring', 'neighborhood', 'lerxst']]\n"
          ]
        }
      ]
    },
    {
      "cell_type": "markdown",
      "metadata": {
        "id": "1Oze1NLgUtzP"
      },
      "source": [
        "##**4. Create the Dictionary and Corpus needed for Topic Modeling**\n",
        "The two main inputs to the LDA topic model are the dictionary(id2word) and the corpus. Let’s create them.\n",
        "\n"
      ]
    },
    {
      "cell_type": "code",
      "metadata": {
        "colab": {
          "base_uri": "https://localhost:8080/"
        },
        "id": "3P4HRRycUxkz",
        "outputId": "ec0f10e8-7c68-45c8-fae9-02097a947d6a"
      },
      "source": [
        "# Create Dictionary\n",
        "id2word = corpora.Dictionary(data_lemmatized)\n",
        "\n",
        "# Create Corpus\n",
        "texts = data_lemmatized \n",
        "\n",
        "# Term Document Frequency\n",
        "corpus = [id2word.doc2bow(text) for text in texts] #corpus is a stream of input documents = training examples:\n",
        "                                                   #bow -->bag-of-words format -> mapping of (word_id, word_frequency).\n",
        "# View\n",
        "print(corpus[:1])"
      ],
      "execution_count": null,
      "outputs": [
        {
          "output_type": "stream",
          "name": "stdout",
          "text": [
            "[[(0, 1), (1, 1), (2, 1), (3, 1), (4, 1), (5, 5), (6, 1), (7, 1), (8, 2), (9, 1), (10, 1), (11, 1), (12, 1), (13, 1), (14, 1), (15, 1), (16, 1), (17, 1), (18, 1), (19, 1), (20, 2), (21, 1), (22, 1), (23, 1), (24, 1), (25, 1), (26, 1), (27, 1), (28, 1), (29, 1), (30, 1), (31, 1), (32, 1), (33, 1), (34, 1), (35, 1), (36, 1), (37, 1), (38, 1), (39, 1), (40, 1)]]\n"
          ]
        }
      ]
    },
    {
      "cell_type": "markdown",
      "metadata": {
        "id": "nb5sP4UYWxL3"
      },
      "source": [
        "##**As we can see above: For example, (0, 1) above implies, word id 0 occurs once in the first document. Likewise, word id 1 occurs twice and so on. This is used as the input by the LDA model.**"
      ]
    },
    {
      "cell_type": "markdown",
      "metadata": {
        "id": "z8wIGXkvYMth"
      },
      "source": [
        "#**5. Building the Topic Model**\n",
        "We have everything required to train the LDA model. In addition to the corpus and dictionary, you need to provide the number of topics as well.\n",
        "\n",
        "Apart from that, alpha and eta are hyperparameters that affect sparsity of the topics. According to the Gensim docs, both defaults to 1.0/num_topics prior.\n",
        "\n",
        "chunksize is the number of documents to be used in each training chunk. update_every determines how often the model parameters should be updated and passes is the total number of training passes."
      ]
    },
    {
      "cell_type": "code",
      "metadata": {
        "id": "-EvzskPaW5ul"
      },
      "source": [
        "# Build LDA model\n",
        "lda_model = gensim.models.ldamodel.LdaModel(corpus=corpus,\n",
        "                                           id2word=id2word,\n",
        "                                           num_topics=20, \n",
        "                                           random_state=100,\n",
        "                                           update_every=1,\n",
        "                                           chunksize=100,\n",
        "                                           passes=10,\n",
        "                                           alpha='auto',\n",
        "                                           per_word_topics=True)"
      ],
      "execution_count": null,
      "outputs": []
    },
    {
      "cell_type": "markdown",
      "metadata": {
        "id": "z6ktpXOvngg7"
      },
      "source": [
        "#**View the topics in LDA model**\n",
        "The above LDA model is built with 20 different topics where each topic is a combination of keywords and each keyword contributes a certain weightage to the topic."
      ]
    },
    {
      "cell_type": "code",
      "metadata": {
        "colab": {
          "base_uri": "https://localhost:8080/"
        },
        "id": "m09FHdWbUx-k",
        "outputId": "6774cd69-372b-4766-a4b3-8ddc3f89ddd7"
      },
      "source": [
        "# Print the Keyword in the 10 topics\n",
        "pprint(lda_model.print_topics())\n",
        "doc_lda = lda_model[corpus]"
      ],
      "execution_count": null,
      "outputs": [
        {
          "output_type": "stream",
          "name": "stdout",
          "text": [
            "[(0,\n",
            "  '0.049*\"year\" + 0.023*\"last\" + 0.023*\"team\" + 0.021*\"game\" + 0.021*\"first\" + '\n",
            "  '0.017*\"go\" + 0.016*\"next\" + 0.016*\"play\" + 0.015*\"win\" + 0.014*\"start\"'),\n",
            " (1,\n",
            "  '0.076*\"church\" + 0.053*\"cpu\" + 0.041*\"turkish\" + 0.036*\"son\" + '\n",
            "  '0.032*\"armenian\" + 0.027*\"upgrade\" + 0.021*\"inhabitant\" + 0.019*\"escape\" + '\n",
            "  '0.019*\"soul\" + 0.018*\"proceed\"'),\n",
            " (2,\n",
            "  '0.262*\"ax\" + 0.222*\"max\" + 0.075*\"character\" + 0.037*\"font\" + '\n",
            "  '0.020*\"trivial\" + 0.012*\"plot\" + 0.012*\"click\" + 0.004*\"rushdie\" + '\n",
            "  '0.004*\"precedent\" + 0.001*\"islamic_law\"'),\n",
            " (3,\n",
            "  '0.124*\"law\" + 0.048*\"israeli\" + 0.036*\"format\" + 0.036*\"jewish\" + '\n",
            "  '0.032*\"state\" + 0.030*\"citizen\" + 0.030*\"willing\" + 0.022*\"waste\" + '\n",
            "  '0.019*\"party\" + 0.019*\"homosexual\"'),\n",
            " (4,\n",
            "  '0.041*\"patient\" + 0.029*\"body\" + 0.024*\"police\" + 0.023*\"eat\" + '\n",
            "  '0.021*\"safety\" + 0.021*\"route\" + 0.020*\"cool\" + 0.019*\"treatment\" + '\n",
            "  '0.019*\"meet\" + 0.019*\"disease\"'),\n",
            " (5,\n",
            "  '0.022*\"may\" + 0.017*\"make\" + 0.014*\"people\" + 0.013*\"also\" + 0.012*\"many\" + '\n",
            "  '0.011*\"way\" + 0.010*\"time\" + 0.010*\"even\" + 0.010*\"give\" + 0.009*\"point\"'),\n",
            " (6,\n",
            "  '0.075*\"page\" + 0.062*\"military\" + 0.051*\"policy\" + 0.048*\"activity\" + '\n",
            "  '0.044*\"criminal\" + 0.042*\"withdraw\" + 0.041*\"occupy\" + 0.037*\"rational\" + '\n",
            "  '0.030*\"multiple\" + 0.029*\"workstation\"'),\n",
            " (7,\n",
            "  '0.041*\"car\" + 0.038*\"high\" + 0.024*\"cost\" + 0.024*\"power\" + 0.022*\"low\" + '\n",
            "  '0.018*\"rate\" + 0.018*\"test\" + 0.018*\"distribution_usa\" + 0.017*\"design\" + '\n",
            "  '0.017*\"model\"'),\n",
            " (8,\n",
            "  '0.111*\"space\" + 0.038*\"launch\" + 0.029*\"orbit\" + 0.029*\"doctor\" + '\n",
            "  '0.029*\"mission\" + 0.027*\"earth\" + 0.027*\"vehicle\" + 0.026*\"satellite\" + '\n",
            "  '0.023*\"processor\" + 0.023*\"flight\"'),\n",
            " (9,\n",
            "  '0.107*\"internal\" + 0.082*\"apple\" + 0.046*\"bug\" + 0.040*\"own\" + 0.023*\"belt\" '\n",
            "  '+ 0.021*\"unique\" + 0.021*\"timing\" + 0.013*\"shaft\" + 0.008*\"triangle\" + '\n",
            "  '0.006*\"caution\"'),\n",
            " (10,\n",
            "  '0.064*\"system\" + 0.057*\"program\" + 0.052*\"file\" + 0.046*\"use\" + '\n",
            "  '0.042*\"window\" + 0.036*\"run\" + 0.032*\"computer\" + 0.032*\"software\" + '\n",
            "  '0.024*\"com\" + 0.023*\"machine\"'),\n",
            " (11,\n",
            "  '0.047*\"buy\" + 0.046*\"new\" + 0.039*\"price\" + 0.037*\"sell\" + 0.033*\"physical\" '\n",
            "  '+ 0.029*\"sale\" + 0.028*\"sound\" + 0.025*\"offer\" + 0.024*\"bike\" + '\n",
            "  '0.023*\"old\"'),\n",
            " (12,\n",
            "  '0.117*\"name\" + 0.064*\"copy\" + 0.060*\"entry\" + 0.040*\"section\" + '\n",
            "  '0.029*\"date\" + 0.023*\"cd\" + 0.022*\"manager\" + 0.021*\"pack\" + 0.020*\"info\" + '\n",
            "  '0.019*\"fax\"'),\n",
            " (13,\n",
            "  '0.058*\"evidence\" + 0.042*\"claim\" + 0.040*\"reason\" + 0.036*\"sense\" + '\n",
            "  '0.035*\"exist\" + 0.028*\"say\" + 0.021*\"argument\" + 0.020*\"explain\" + '\n",
            "  '0.020*\"science\" + 0.020*\"prove\"'),\n",
            " (14,\n",
            "  '0.061*\"line\" + 0.055*\"would\" + 0.052*\"write\" + 0.033*\"article\" + '\n",
            "  '0.030*\"know\" + 0.029*\"be\" + 0.027*\"think\" + 0.025*\"get\" + 0.023*\"go\" + '\n",
            "  '0.019*\"host\"'),\n",
            " (15,\n",
            "  '0.080*\"faith\" + 0.073*\"believe\" + 0.060*\"religion\" + 0.057*\"god\" + '\n",
            "  '0.050*\"accept\" + 0.049*\"truth\" + 0.047*\"belief\" + 0.036*\"die\" + '\n",
            "  '0.036*\"christian\" + 0.035*\"religious\"'),\n",
            " (16,\n",
            "  '0.051*\"people\" + 0.026*\"child\" + 0.025*\"gun\" + 0.025*\"kill\" + '\n",
            "  '0.024*\"government\" + 0.021*\"say\" + 0.020*\"death\" + 0.019*\"live\" + '\n",
            "  '0.015*\"man\" + 0.015*\"country\"'),\n",
            " (17,\n",
            "  '0.150*\"key\" + 0.056*\"chip\" + 0.042*\"encryption\" + 0.042*\"phone\" + '\n",
            "  '0.040*\"server\" + 0.040*\"government\" + 0.039*\"security\" + 0.033*\"bit\" + '\n",
            "  '0.026*\"secure\" + 0.026*\"box\"'),\n",
            " (18,\n",
            "  '0.041*\"include\" + 0.040*\"mail\" + 0.036*\"information\" + 0.036*\"send\" + '\n",
            "  '0.030*\"source\" + 0.027*\"list\" + 0.025*\"available\" + 0.023*\"address\" + '\n",
            "  '0.021*\"email\" + 0.020*\"number\"'),\n",
            " (19,\n",
            "  '0.106*\"drive\" + 0.058*\"card\" + 0.047*\"driver\" + 0.036*\"bit\" + 0.031*\"color\" '\n",
            "  '+ 0.029*\"solution\" + 0.028*\"memory\" + 0.027*\"disk\" + 0.024*\"season\" + '\n",
            "  '0.022*\"device\"')]\n"
          ]
        }
      ]
    },
    {
      "cell_type": "markdown",
      "metadata": {
        "id": "0_A1O8GcnyIa"
      },
      "source": [
        "##**How to interpret this?**\n",
        "\n",
        "Topic 0 is a represented as _0.016“car” + 0.014“power” + 0.010“light” + 0.009“drive” + 0.007“mount” + 0.007“controller” + 0.007“cool” + 0.007“engine” + 0.007“back” + ‘0.006“turn”.\n",
        "\n",
        "It means the top 10 keywords that contribute to this topic are: ‘car’, ‘power’, ‘light’.. and so on and the weight of ‘car’ on topic 0 is 0.016.\n",
        "![image.png](data:image/png;base64,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)"
      ]
    },
    {
      "cell_type": "markdown",
      "metadata": {
        "id": "G4Yk4Jd_oPsa"
      },
      "source": [
        "##**5. Compute Model Perplexity and Coherence Score**\n",
        "Model perplexity and topic coherence provide a convenient measure to judge how good a given topic model is. In my experience, topic coherence score, in particular, has been more helpful.\n",
        "\n"
      ]
    },
    {
      "cell_type": "code",
      "metadata": {
        "colab": {
          "base_uri": "https://localhost:8080/"
        },
        "id": "nBMwJDuzoKfx",
        "outputId": "05a00337-7a30-4e82-ef65-889903be9e4d"
      },
      "source": [
        "# Compute Perplexity\n",
        "print('\\nPerplexity: ', lda_model.log_perplexity(corpus))  # a measure of how good the model is. lower the better.\n",
        "\n",
        "# Compute Coherence Score\n",
        "coherence_model_lda = CoherenceModel(model=lda_model, texts=data_lemmatized, dictionary=id2word, coherence='c_v')\n",
        "coherence_lda = coherence_model_lda.get_coherence()\n",
        "print('\\nCoherence Score: ', coherence_lda)"
      ],
      "execution_count": null,
      "outputs": [
        {
          "output_type": "stream",
          "name": "stdout",
          "text": [
            "\n",
            "Perplexity:  -12.89426769844373\n",
            "\n",
            "Coherence Score:  0.46006848849944637\n"
          ]
        }
      ]
    },
    {
      "cell_type": "markdown",
      "metadata": {
        "id": "yPWRclxKoxTI"
      },
      "source": [
        "#**Using NMF**"
      ]
    },
    {
      "cell_type": "code",
      "metadata": {
        "id": "bzphPbV0owrk"
      },
      "source": [
        "nmf = GensimNmf(\n",
        "    corpus=corpus,\n",
        "    num_topics=20,\n",
        "    id2word=id2word,\n",
        "    chunksize=100,\n",
        "    passes=10,\n",
        "    eval_every=10,\n",
        "    minimum_probability=0,\n",
        "    random_state=100,\n",
        "    kappa=1,\n",
        ")"
      ],
      "execution_count": null,
      "outputs": []
    },
    {
      "cell_type": "code",
      "metadata": {
        "colab": {
          "base_uri": "https://localhost:8080/"
        },
        "id": "DO2PD4UcpkZP",
        "outputId": "c52230fd-f849-4889-894b-e5c6158a3dfa"
      },
      "source": [
        "# Print the Keyword in the 10 topics\n",
        "pprint(nmf.print_topics())\n",
        "doc_nmf = nmf[corpus]"
      ],
      "execution_count": null,
      "outputs": [
        {
          "output_type": "stream",
          "name": "stdout",
          "text": [
            "[(0,\n",
            "  '0.024*\"gun\" + 0.014*\"law\" + 0.012*\"firearm\" + 0.010*\"state\" + 0.010*\"right\" '\n",
            "  '+ 0.009*\"file\" + 0.009*\"article\" + 0.008*\"crime\" + 0.007*\"report\" + '\n",
            "  '0.007*\"issue\"'),\n",
            " (1,\n",
            "  '0.015*\"may\" + 0.014*\"entry\" + 0.012*\"atheist\" + 0.009*\"many\" + 0.009*\"must\" '\n",
            "  '+ 0.009*\"make\" + 0.009*\"believe\" + 0.008*\"exist\" + 0.007*\"religion\" + '\n",
            "  '0.006*\"question\"'),\n",
            " (2,\n",
            "  '0.051*\"write\" + 0.047*\"line\" + 0.026*\"article\" + 0.014*\"output\" + '\n",
            "  '0.011*\"read\" + 0.009*\"open\" + 0.009*\"program\" + 0.009*\"host\" + '\n",
            "  '0.008*\"return\" + 0.007*\"name\"'),\n",
            " (3,\n",
            "  '0.036*\"drive\" + 0.017*\"system\" + 0.014*\"scsi\" + 0.013*\"use\" + '\n",
            "  '0.012*\"problem\" + 0.012*\"bit\" + 0.010*\"window\" + 0.010*\"driver\" + '\n",
            "  '0.010*\"support\" + 0.009*\"run\"'),\n",
            " (4,\n",
            "  '0.102*\"would\" + 0.012*\"could\" + 0.012*\"think\" + 0.009*\"good\" + 0.008*\"be\" + '\n",
            "  '0.008*\"make\" + 0.007*\"time\" + 0.007*\"know\" + 0.006*\"really\" + 0.006*\"seem\"'),\n",
            " (5,\n",
            "  '0.022*\"come\" + 0.019*\"go\" + 0.015*\"take\" + 0.014*\"could\" + 0.013*\"see\" + '\n",
            "  '0.013*\"know\" + 0.011*\"apartment\" + 0.011*\"tell\" + 0.011*\"people\" + '\n",
            "  '0.011*\"start\"'),\n",
            " (6,\n",
            "  '0.043*\"db_db\" + 0.022*\"wire\" + 0.016*\"bit\" + 0.011*\"wiring\" + '\n",
            "  '0.010*\"ground\" + 0.010*\"outlet\" + 0.010*\"circuit\" + 0.009*\"use\" + '\n",
            "  '0.008*\"key\" + 0.008*\"neutral\"'),\n",
            " (7,\n",
            "  '0.019*\"year\" + 0.018*\"team\" + 0.015*\"game\" + 0.011*\"season\" + 0.010*\"play\" '\n",
            "  '+ 0.009*\"player\" + 0.008*\"good\" + 0.007*\"car\" + 0.007*\"get\" + 0.006*\"may\"'),\n",
            " (8,\n",
            "  '0.110*\"file\" + 0.028*\"entry\" + 0.022*\"program\" + 0.011*\"output\" + '\n",
            "  '0.010*\"build\" + 0.010*\"section\" + 0.009*\"info\" + 0.009*\"name\" + '\n",
            "  '0.007*\"rule\" + 0.007*\"information\"'),\n",
            " (9,\n",
            "  '0.045*\"go\" + 0.035*\"s\" + 0.027*\"be\" + 0.025*\"know\" + 0.024*\"think\" + '\n",
            "  '0.017*\"say\" + 0.017*\"make\" + 0.016*\"work\" + 0.015*\"president\" + '\n",
            "  '0.014*\"get\"'),\n",
            " (10,\n",
            "  '0.019*\"widget\" + 0.018*\"application\" + 0.015*\"use\" + 0.013*\"value\" + '\n",
            "  '0.013*\"resource\" + 0.012*\"window\" + 0.011*\"call\" + 0.011*\"set\" + '\n",
            "  '0.009*\"converter\" + 0.008*\"type\"'),\n",
            " (11,\n",
            "  '0.020*\"system\" + 0.018*\"think\" + 0.018*\"key\" + 0.014*\"government\" + '\n",
            "  '0.013*\"encryption\" + 0.009*\"technology\" + 0.008*\"new\" + 0.007*\"also\" + '\n",
            "  '0.007*\"use\" + 0.007*\"may\"'),\n",
            " (12,\n",
            "  '0.026*\"image\" + 0.017*\"available\" + 0.012*\"version\" + 0.012*\"also\" + '\n",
            "  '0.010*\"include\" + 0.010*\"software\" + 0.009*\"format\" + 0.009*\"system\" + '\n",
            "  '0.009*\"color\" + 0.008*\"program\"'),\n",
            " (13,\n",
            "  '0.120*\"say\" + 0.013*\"know\" + 0.012*\"see\" + 0.011*\"day\" + 0.010*\"tell\" + '\n",
            "  '0.009*\"go\" + 0.008*\"people\" + 0.008*\"speak\" + 0.008*\"let\" + 0.008*\"give\"'),\n",
            " (14,\n",
            "  '0.021*\"internet\" + 0.017*\"privacy\" + 0.015*\"anonymous\" + 0.014*\"email\" + '\n",
            "  '0.014*\"user\" + 0.013*\"post\" + 0.013*\"mail\" + 0.012*\"information\" + '\n",
            "  '0.011*\"address\" + 0.011*\"computer\"'),\n",
            " (15,\n",
            "  '0.074*\"people\" + 0.017*\"work\" + 0.013*\"want\" + 0.013*\"thing\" + 0.011*\"job\" '\n",
            "  '+ 0.010*\"right\" + 0.010*\"young\" + 0.010*\"many\" + 0.008*\"school\" + '\n",
            "  '0.008*\"country\"'),\n",
            " (16,\n",
            "  '0.029*\"turkish\" + 0.012*\"government\" + 0.012*\"armenian\" + 0.010*\"book\" + '\n",
            "  '0.009*\"russian\" + 0.007*\"jewish\" + 0.006*\"also\" + 0.006*\"document\" + '\n",
            "  '0.006*\"take\" + 0.006*\"history\"'),\n",
            " (17,\n",
            "  '0.031*\"argument\" + 0.022*\"fallacy\" + 0.018*\"conclusion\" + 0.016*\"true\" + '\n",
            "  '0.015*\"example\" + 0.014*\"premise\" + 0.013*\"get\" + 0.012*\"problem\" + '\n",
            "  '0.010*\"occur\" + 0.010*\"therefore\"'),\n",
            " (18,\n",
            "  '0.035*\"launch\" + 0.024*\"satellite\" + 0.022*\"space\" + 0.012*\"market\" + '\n",
            "  '0.012*\"commercial\" + 0.010*\"year\" + 0.009*\"service\" + 0.008*\"system\" + '\n",
            "  '0.008*\"venture\" + 0.007*\"first\"'),\n",
            " (19,\n",
            "  '0.503*\"ax\" + 0.420*\"max\" + 0.004*\"di_di\" + 0.002*\"bhjn\" + 0.002*\"wt\" + '\n",
            "  '0.002*\"eqtm\" + 0.002*\"pl_pl\" + 0.002*\"part\" + 0.002*\"wm_wm\" + '\n",
            "  '0.001*\"ei_ei\"')]\n"
          ]
        }
      ]
    },
    {
      "cell_type": "code",
      "metadata": {
        "colab": {
          "base_uri": "https://localhost:8080/"
        },
        "id": "maipWMB3qC7x",
        "outputId": "3d74c6bc-94b2-4c0e-8514-8522f417767b"
      },
      "source": [
        "# Compute Coherence Score\n",
        "coherence_model_nmf = CoherenceModel(model=nmf, texts=data_lemmatized, dictionary=id2word, coherence='c_v')\n",
        "coherence_nmf = coherence_model_nmf.get_coherence()\n",
        "print('\\nCoherence Score: ', coherence_nmf)"
      ],
      "execution_count": null,
      "outputs": [
        {
          "output_type": "stream",
          "name": "stdout",
          "text": [
            "\n",
            "Coherence Score:  0.5517586888246168\n"
          ]
        }
      ]
    },
    {
      "cell_type": "markdown",
      "metadata": {
        "id": "u1pOQPEyrWL7"
      },
      "source": [
        "#**6.Conclusion**\n",
        "Coherence measures the relative distance between words within a topic. There are two major types C_V typically 0 < x < 1 and uMass -14 < x < 14. The overall coherence score of a topic is the average of the distances between words.I would say:\n",
        "Coherence Score:  0.5 for NMF\n",
        "Coherence Score:  0.4 for LDA\n",
        "so, NMF is better than LDA for topic modeling.\n",
        "\n"
      ]
    }
  ]
}